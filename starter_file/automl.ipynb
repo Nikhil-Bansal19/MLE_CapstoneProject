{
  "cells": [
    {
      "cell_type": "markdown",
      "source": [
        "# Automated ML\n",
        "\n",
        "TODO: Import Dependencies. In the cell below, import all the dependencies that you will need to complete the project."
      ],
      "metadata": {}
    },
    {
      "cell_type": "code",
      "source": [
        "from azureml.data.dataset_factory import TabularDatasetFactory\n",
        "from azureml.core import Workspace, Experiment, Model\n",
        "from azureml.core.compute import ComputeTarget, AmlCompute\n",
        "from azureml.core.compute_target import ComputeTargetException\n",
        "from azureml.widgets import RunDetails\n",
        "from sklearn.model_selection import train_test_split\n",
        "from azureml.train.automl import AutoMLConfig\n",
        "from azureml.widgets import RunDetails\n",
        "from azureml.core.dataset import Dataset\n",
        "import joblib\n",
        "from azureml.core.environment import Environment\n",
        "from azureml.core.model import InferenceConfig\n",
        "from azureml.core.webservice import LocalWebservice, AciWebservice\n",
        "import json\n",
        "import numpy as np\n",
        "from azureml.automl.core.shared import constants\n",
        "import requests"
      ],
      "outputs": [],
      "execution_count": 1,
      "metadata": {
        "gather": {
          "logged": 1690644663379
        },
        "jupyter": {
          "outputs_hidden": false,
          "source_hidden": false
        },
        "nteract": {
          "transient": {
            "deleting": false
          }
        }
      }
    },
    {
      "cell_type": "markdown",
      "source": [
        "## Dataset\n",
        "\n",
        "### Overview\n",
        "TODO: In this markdown cell, give an overview of the dataset you are using. Also mention the task you will be performing.\n",
        "\n",
        "\n",
        "TODO: Get data. In the cell below, write code to access the data you will be using in this project. Remember that the dataset needs to be external."
      ],
      "metadata": {}
    },
    {
      "cell_type": "code",
      "source": [
        "ws = Workspace.from_config()\n",
        "\n",
        "# choose a name for experiment\n",
        "experiment_name = 'my_experiment'\n",
        "\n",
        "experiment=Experiment(ws, experiment_name)\n",
        "\n",
        "#Environment(name=\"Auto-ML\")"
      ],
      "outputs": [],
      "execution_count": 2,
      "metadata": {
        "gather": {
          "logged": 1690644663724
        },
        "jupyter": {
          "outputs_hidden": false,
          "source_hidden": false
        },
        "nteract": {
          "transient": {
            "deleting": false
          }
        }
      }
    },
    {
      "cell_type": "code",
      "source": [
        "cpu_cluster_name = \"auto-ml\"\n",
        "try:\n",
        "    cpu_cluster = ComputeTarget(workspace=ws, name=cpu_cluster_name)\n",
        "    print('Cluster Found!.')\n",
        "except ComputeTargetException:\n",
        "    compute_config = AmlCompute.provisioning_configuration(vm_size='STANDARD_D2_V2',\n",
        "                                                           max_nodes=4)\n",
        "    cpu_cluster = ComputeTarget.create(ws, cpu_cluster_name, compute_config)\n",
        "    cpu_cluster.wait_for_completion(show_output=True)"
      ],
      "outputs": [
        {
          "output_type": "stream",
          "name": "stdout",
          "text": "Cluster Found!.\n"
        }
      ],
      "execution_count": 3,
      "metadata": {
        "gather": {
          "logged": 1690644664106
        }
      }
    },
    {
      "cell_type": "code",
      "source": [
        "dataset = Dataset.get_by_name(ws, name='Capstone_Data')\n",
        "Capstone_Dataset = dataset.to_pandas_dataframe()\n",
        "\n",
        "Capstone_Dataset.head()"
      ],
      "outputs": [
        {
          "output_type": "execute_result",
          "execution_count": 4,
          "data": {
            "text/plain": "   Pregnancies  Glucose  BloodPressure  SkinThickness  Insulin   BMI  \\\n0            6      148             72             35        0  33.6   \n1            1       85             66             29        0  26.6   \n2            8      183             64              0        0  23.3   \n3            1       89             66             23       94  28.1   \n4            0      137             40             35      168  43.1   \n\n   DiabetesPedigreeFunction  Age  Outcome  \n0                     0.627   50        1  \n1                     0.351   31        0  \n2                     0.672   32        1  \n3                     0.167   21        0  \n4                     2.288   33        1  ",
            "text/html": "<div>\n<style scoped>\n    .dataframe tbody tr th:only-of-type {\n        vertical-align: middle;\n    }\n\n    .dataframe tbody tr th {\n        vertical-align: top;\n    }\n\n    .dataframe thead th {\n        text-align: right;\n    }\n</style>\n<table border=\"1\" class=\"dataframe\">\n  <thead>\n    <tr style=\"text-align: right;\">\n      <th></th>\n      <th>Pregnancies</th>\n      <th>Glucose</th>\n      <th>BloodPressure</th>\n      <th>SkinThickness</th>\n      <th>Insulin</th>\n      <th>BMI</th>\n      <th>DiabetesPedigreeFunction</th>\n      <th>Age</th>\n      <th>Outcome</th>\n    </tr>\n  </thead>\n  <tbody>\n    <tr>\n      <th>0</th>\n      <td>6</td>\n      <td>148</td>\n      <td>72</td>\n      <td>35</td>\n      <td>0</td>\n      <td>33.6</td>\n      <td>0.627</td>\n      <td>50</td>\n      <td>1</td>\n    </tr>\n    <tr>\n      <th>1</th>\n      <td>1</td>\n      <td>85</td>\n      <td>66</td>\n      <td>29</td>\n      <td>0</td>\n      <td>26.6</td>\n      <td>0.351</td>\n      <td>31</td>\n      <td>0</td>\n    </tr>\n    <tr>\n      <th>2</th>\n      <td>8</td>\n      <td>183</td>\n      <td>64</td>\n      <td>0</td>\n      <td>0</td>\n      <td>23.3</td>\n      <td>0.672</td>\n      <td>32</td>\n      <td>1</td>\n    </tr>\n    <tr>\n      <th>3</th>\n      <td>1</td>\n      <td>89</td>\n      <td>66</td>\n      <td>23</td>\n      <td>94</td>\n      <td>28.1</td>\n      <td>0.167</td>\n      <td>21</td>\n      <td>0</td>\n    </tr>\n    <tr>\n      <th>4</th>\n      <td>0</td>\n      <td>137</td>\n      <td>40</td>\n      <td>35</td>\n      <td>168</td>\n      <td>43.1</td>\n      <td>2.288</td>\n      <td>33</td>\n      <td>1</td>\n    </tr>\n  </tbody>\n</table>\n</div>"
          },
          "metadata": {}
        }
      ],
      "execution_count": 4,
      "metadata": {
        "gather": {
          "logged": 1690644670858
        }
      }
    },
    {
      "cell_type": "markdown",
      "source": [
        "## AutoML Configuration\n",
        "\n",
        "TODO: Explain why you chose the automl settings and cofiguration you used below."
      ],
      "metadata": {}
    },
    {
      "cell_type": "code",
      "source": [
        "# TODO: Put your automl settings here\n",
        "automl_settings = {\n",
        "    \"experiment_timeout_minutes\":30,\n",
        "    \"task\":'classification',\n",
        "    \"primary_metric\":'accuracy',\n",
        "    \"training_data\":dataset,\n",
        "    \"label_column_name\":'Outcome',\n",
        "    \"n_cross_validations\":5,\n",
        "    \"max_concurrent_iterations\": 4,\n",
        "    \"featurization\": 'auto'}\n",
        "\n",
        "# TODO: Put your automl config here\n",
        "automl_config = AutoMLConfig(\n",
        "    compute_target=cpu_cluster,\n",
        "    **automl_settings)"
      ],
      "outputs": [],
      "execution_count": 5,
      "metadata": {
        "gather": {
          "logged": 1690644671081
        },
        "jupyter": {
          "outputs_hidden": false,
          "source_hidden": false
        },
        "nteract": {
          "transient": {
            "deleting": false
          }
        }
      }
    },
    {
      "cell_type": "code",
      "source": [
        "# TODO: Submit your experiment\n",
        "remote_run = experiment.submit(automl_config)"
      ],
      "outputs": [
        {
          "output_type": "stream",
          "name": "stdout",
          "text": "Submitting remote run.\n"
        },
        {
          "output_type": "display_data",
          "data": {
            "text/html": "<table style=\"width:100%\"><tr><th>Experiment</th><th>Id</th><th>Type</th><th>Status</th><th>Details Page</th><th>Docs Page</th></tr><tr><td>my_experiment</td><td>AutoML_56ac2cae-8af3-4a48-b087-94d371fb4fa5</td><td>automl</td><td>NotStarted</td><td><a href=\"https://ml.azure.com/runs/AutoML_56ac2cae-8af3-4a48-b087-94d371fb4fa5?wsid=/subscriptions/f9d5a085-54dc-4215-9ba6-dad5d86e60a0/resourcegroups/aml-quickstarts-239402/workspaces/quick-starts-ws-239402&amp;tid=660b3398-b80e-49d2-bc5b-ac1dc93b5254\" target=\"_blank\" rel=\"noopener\">Link to Azure Machine Learning studio</a></td><td><a href=\"https://docs.microsoft.com/en-us/python/api/overview/azure/ml/intro?view=azure-ml-py\" target=\"_blank\" rel=\"noopener\">Link to Documentation</a></td></tr></table>"
          },
          "metadata": {}
        }
      ],
      "execution_count": 6,
      "metadata": {
        "gather": {
          "logged": 1690644674592
        },
        "jupyter": {
          "outputs_hidden": false,
          "source_hidden": false
        },
        "nteract": {
          "transient": {
            "deleting": false
          }
        }
      }
    },
    {
      "cell_type": "markdown",
      "source": [
        "## Run Details\n",
        "\n",
        "OPTIONAL: Write about the different models trained and their performance. Why do you think some models did better than others?\n",
        "\n",
        "TODO: In the cell below, use the `RunDetails` widget to show the different experiments."
      ],
      "metadata": {}
    },
    {
      "cell_type": "code",
      "source": [
        "RunDetails(remote_run).show()\n",
        "remote_run.wait_for_completion(show_output=True)"
      ],
      "outputs": [
        {
          "output_type": "display_data",
          "data": {
            "text/plain": "_AutoMLWidget(widget_settings={'childWidgetDisplay': 'popup', 'send_telemetry': False, 'log_level': 'INFO', 's…",
            "application/vnd.jupyter.widget-view+json": {
              "version_major": 2,
              "version_minor": 0,
              "model_id": "b7ffc097d2704f52bcf6b12eca5750d8"
            }
          },
          "metadata": {}
        },
        {
          "output_type": "display_data",
          "data": {
            "application/aml.mini.widget.v1": "{\"status\": \"Completed\", \"workbench_run_details_uri\": \"https://ml.azure.com/runs/AutoML_56ac2cae-8af3-4a48-b087-94d371fb4fa5?wsid=/subscriptions/f9d5a085-54dc-4215-9ba6-dad5d86e60a0/resourcegroups/aml-quickstarts-239402/workspaces/quick-starts-ws-239402&tid=660b3398-b80e-49d2-bc5b-ac1dc93b5254\", \"run_id\": \"AutoML_56ac2cae-8af3-4a48-b087-94d371fb4fa5\", \"run_properties\": {\"run_id\": \"AutoML_56ac2cae-8af3-4a48-b087-94d371fb4fa5\", \"created_utc\": \"2023-07-29T15:31:13.158295Z\", \"properties\": {\"num_iterations\": \"1000\", \"training_type\": \"TrainFull\", \"acquisition_function\": \"EI\", \"primary_metric\": \"accuracy\", \"train_split\": \"0\", \"acquisition_parameter\": \"0\", \"num_cross_validation\": \"5\", \"target\": \"auto-ml\", \"AMLSettingsJsonString\": \"{\\\"path\\\":null,\\\"name\\\":\\\"my_experiment\\\",\\\"subscription_id\\\":\\\"f9d5a085-54dc-4215-9ba6-dad5d86e60a0\\\",\\\"resource_group\\\":\\\"aml-quickstarts-239402\\\",\\\"workspace_name\\\":\\\"quick-starts-ws-239402\\\",\\\"region\\\":\\\"westeurope\\\",\\\"compute_target\\\":\\\"auto-ml\\\",\\\"spark_service\\\":null,\\\"azure_service\\\":\\\"remote\\\",\\\"many_models\\\":false,\\\"pipeline_fetch_max_batch_size\\\":1,\\\"enable_batch_run\\\":true,\\\"enable_parallel_run\\\":false,\\\"num_procs\\\":null,\\\"enable_run_restructure\\\":false,\\\"start_auxiliary_runs_before_parent_complete\\\":false,\\\"enable_code_generation\\\":true,\\\"iterations\\\":1000,\\\"primary_metric\\\":\\\"accuracy\\\",\\\"task_type\\\":\\\"classification\\\",\\\"positive_label\\\":null,\\\"data_script\\\":null,\\\"test_size\\\":0.0,\\\"test_include_predictions_only\\\":false,\\\"validation_size\\\":0.0,\\\"n_cross_validations\\\":5,\\\"y_min\\\":null,\\\"y_max\\\":null,\\\"num_classes\\\":null,\\\"featurization\\\":\\\"auto\\\",\\\"_ignore_package_version_incompatibilities\\\":false,\\\"is_timeseries\\\":false,\\\"max_cores_per_iteration\\\":1,\\\"max_concurrent_iterations\\\":4,\\\"iteration_timeout_minutes\\\":null,\\\"mem_in_mb\\\":null,\\\"enforce_time_on_windows\\\":false,\\\"experiment_timeout_minutes\\\":30,\\\"experiment_exit_score\\\":null,\\\"partition_column_names\\\":null,\\\"whitelist_models\\\":null,\\\"blacklist_algos\\\":[\\\"TensorFlowLinearClassifier\\\",\\\"TensorFlowDNN\\\"],\\\"supported_models\\\":[\\\"LightGBM\\\",\\\"KNN\\\",\\\"LinearSVM\\\",\\\"GradientBoosting\\\",\\\"XGBoostClassifier\\\",\\\"MultinomialNaiveBayes\\\",\\\"SGD\\\",\\\"AveragedPerceptronClassifier\\\",\\\"BernoulliNaiveBayes\\\",\\\"ExtremeRandomTrees\\\",\\\"TensorFlowLinearClassifier\\\",\\\"TabnetClassifier\\\",\\\"SVM\\\",\\\"DecisionTree\\\",\\\"LogisticRegression\\\",\\\"TensorFlowDNN\\\",\\\"RandomForest\\\"],\\\"private_models\\\":[],\\\"auto_blacklist\\\":true,\\\"blacklist_samples_reached\\\":false,\\\"exclude_nan_labels\\\":true,\\\"verbosity\\\":20,\\\"_debug_log\\\":\\\"azureml_automl.log\\\",\\\"show_warnings\\\":false,\\\"model_explainability\\\":true,\\\"service_url\\\":null,\\\"sdk_url\\\":null,\\\"sdk_packages\\\":null,\\\"enable_onnx_compatible_models\\\":false,\\\"enable_split_onnx_featurizer_estimator_models\\\":false,\\\"vm_type\\\":\\\"STANDARD_D2_V2\\\",\\\"telemetry_verbosity\\\":20,\\\"send_telemetry\\\":true,\\\"enable_dnn\\\":false,\\\"scenario\\\":\\\"AutoML\\\",\\\"environment_label\\\":null,\\\"save_mlflow\\\":false,\\\"enable_categorical_indicators\\\":false,\\\"force_text_dnn\\\":false,\\\"enable_feature_sweeping\\\":true,\\\"enable_early_stopping\\\":true,\\\"early_stopping_n_iters\\\":10,\\\"arguments\\\":null,\\\"dataset_id\\\":\\\"50a1c319-ad99-4781-ad3f-fb2ccfec80d2\\\",\\\"hyperdrive_config\\\":null,\\\"validation_dataset_id\\\":null,\\\"run_source\\\":null,\\\"metrics\\\":null,\\\"enable_metric_confidence\\\":false,\\\"enable_ensembling\\\":true,\\\"enable_stack_ensembling\\\":true,\\\"ensemble_iterations\\\":15,\\\"enable_tf\\\":false,\\\"enable_subsampling\\\":null,\\\"subsample_seed\\\":null,\\\"enable_nimbusml\\\":false,\\\"enable_streaming\\\":false,\\\"force_streaming\\\":false,\\\"track_child_runs\\\":true,\\\"n_best_runs\\\":1,\\\"allowed_private_models\\\":[],\\\"label_column_name\\\":\\\"Outcome\\\",\\\"weight_column_name\\\":null,\\\"cv_split_column_names\\\":null,\\\"enable_local_managed\\\":false,\\\"_local_managed_run_id\\\":null,\\\"cost_mode\\\":1,\\\"lag_length\\\":0,\\\"metric_operation\\\":\\\"maximize\\\",\\\"preprocess\\\":true}\", \"DataPrepJsonString\": \"{\\\\\\\"training_data\\\\\\\": {\\\\\\\"datasetId\\\\\\\": \\\\\\\"50a1c319-ad99-4781-ad3f-fb2ccfec80d2\\\\\\\"}, \\\\\\\"datasets\\\\\\\": 0}\", \"EnableSubsampling\": null, \"runTemplate\": \"AutoML\", \"azureml.runsource\": \"automl\", \"display_task_type\": \"classification\", \"dependencies_versions\": \"{\\\"azureml-dataprep-native\\\": \\\"38.0.0\\\", \\\"azureml-dataprep\\\": \\\"4.10.8\\\", \\\"azureml-dataprep-rslex\\\": \\\"2.17.12\\\", \\\"azureml-train-automl-runtime\\\": \\\"1.51.0.post2\\\", \\\"azureml-train-automl-client\\\": \\\"1.51.0.post1\\\", \\\"azureml-training-tabular\\\": \\\"1.51.0.post1\\\", \\\"azureml-automl-runtime\\\": \\\"1.51.0.post1\\\", \\\"azureml-automl-core\\\": \\\"1.51.0.post1\\\", \\\"azureml-mlflow\\\": \\\"1.51.0\\\", \\\"azureml-datadrift\\\": \\\"1.51.0\\\", \\\"azureml-pipeline\\\": \\\"1.51.0\\\", \\\"azureml-contrib-dataset\\\": \\\"1.51.0\\\", \\\"azureml-contrib-notebook\\\": \\\"1.51.0\\\", \\\"azureml-accel-models\\\": \\\"1.51.0\\\", \\\"azureml-automl-dnn-nlp\\\": \\\"1.51.0\\\", \\\"azureml-pipeline-core\\\": \\\"1.51.0\\\", \\\"azureml-responsibleai\\\": \\\"1.51.0\\\", \\\"azureml-contrib-automl-pipeline-steps\\\": \\\"1.51.0\\\", \\\"azureml-pipeline-steps\\\": \\\"1.51.0\\\", \\\"azureml-core\\\": \\\"1.51.0\\\", \\\"azureml-contrib-reinforcementlearning\\\": \\\"1.51.0\\\", \\\"azureml-contrib-server\\\": \\\"1.51.0\\\", \\\"azureml-opendatasets\\\": \\\"1.51.0\\\", \\\"azureml-contrib-services\\\": \\\"1.51.0\\\", \\\"azureml-telemetry\\\": \\\"1.51.0\\\", \\\"azureml-train-restclients-hyperdrive\\\": \\\"1.51.0\\\", \\\"azureml-interpret\\\": \\\"1.51.0\\\", \\\"azureml-train-core\\\": \\\"1.51.0\\\", \\\"azureml-tensorboard\\\": \\\"1.51.0\\\", \\\"azureml-train\\\": \\\"1.51.0\\\", \\\"azureml-contrib-pipeline-steps\\\": \\\"1.51.0\\\", \\\"azureml-explain-model\\\": \\\"1.51.0\\\", \\\"azureml-cli-common\\\": \\\"1.51.0\\\", \\\"azureml-widgets\\\": \\\"1.51.0\\\", \\\"azureml-train-automl\\\": \\\"1.51.0\\\", \\\"azureml-defaults\\\": \\\"1.51.0\\\", \\\"azureml-contrib-fairness\\\": \\\"1.51.0\\\", \\\"azureml-sdk\\\": \\\"1.51.0\\\", \\\"azureml-dataset-runtime\\\": \\\"1.51.0\\\", \\\"azureml-inference-server-http\\\": \\\"0.8.4\\\"}\", \"_aml_system_scenario_identification\": \"Remote.Parent\", \"ClientType\": \"SDK\", \"PlatformVersion\": \"DPV1\", \"environment_cpu_name\": \"AzureML-AutoML\", \"environment_cpu_label\": \"prod\", \"environment_gpu_name\": \"AzureML-AutoML-GPU\", \"environment_gpu_label\": \"prod\", \"root_attribution\": \"automl\", \"attribution\": \"AutoML\", \"Orchestrator\": \"AutoML\", \"CancelUri\": \"https://westeurope.api.azureml.ms/jasmine/v1.0/subscriptions/f9d5a085-54dc-4215-9ba6-dad5d86e60a0/resourceGroups/aml-quickstarts-239402/providers/Microsoft.MachineLearningServices/workspaces/quick-starts-ws-239402/experimentids/42b1756a-491c-4f6c-8fea-1ae1820d78b5/cancel/AutoML_56ac2cae-8af3-4a48-b087-94d371fb4fa5\", \"ClientSdkVersion\": null, \"snapshotId\": \"00000000-0000-0000-0000-000000000000\", \"SetupRunId\": \"AutoML_56ac2cae-8af3-4a48-b087-94d371fb4fa5_setup\", \"SetupRunContainerId\": \"dcid.AutoML_56ac2cae-8af3-4a48-b087-94d371fb4fa5_setup\", \"FeaturizationRunJsonPath\": \"featurizer_container.json\", \"FeaturizationRunId\": \"AutoML_56ac2cae-8af3-4a48-b087-94d371fb4fa5_featurize\", \"ProblemInfoJsonString\": \"{\\\"dataset_num_categorical\\\": 0, \\\"is_sparse\\\": true, \\\"subsampling\\\": false, \\\"has_extra_col\\\": true, \\\"dataset_classes\\\": 2, \\\"dataset_features\\\": 24, \\\"dataset_samples\\\": 768, \\\"single_frequency_class_detected\\\": false}\", \"ModelExplainRunId\": \"AutoML_56ac2cae-8af3-4a48-b087-94d371fb4fa5_ModelExplain\"}, \"tags\": {\"model_explain_run\": \"best_run\", \"_aml_system_automl_run_workspace_id\": \"f9c10aed-e7ec-44cc-a4b4-3ee2ea0a6efa\", \"_aml_system_azureml.automlComponent\": \"AutoML\", \"pipeline_id_000\": \"5dfac790c5c209f98a1da2dc1c7fb76f0397324f;c7af0367625be6ac5c2fecbfc72ed444cb7a2111;799d2168db11fc19b9e1c6c1df62f8981ad39fe9;44b5d2d23120dfcf96a7dc6389a293d17a966b1b;3735210984ea10097d5c91905cf6300ac278cd89;5304e705d6f401cb07f85bcf0ca59ac1f84dfcf5;294650ec23bc3d067a4972de7ceb12f6e97260fa;3caa818370e5e0c328d6266c359019bd31681270;79ebb3b8c385e3190e3dd4c1fa28b74730528045;589334a57221e0720a95cf217c065115a7b841d1;1dfdf370ba770047b14bfa59c40920815defcdab;5235e3d56688f5f38ef82d73fba7c2e698fc1af2;17f87d449bb43aaf3cdae4b7eb6dd6e7fbdaf343;dc68fbd594530b5d52812dd9b3ffa3d6d8ba625e;2032292dd602836ed754a266c771ac100c4c80dc;5a8eb9d9f67b1dd7e9e4062585daa2417ea78989;35b8e2db3c5f6e714072e1be9f0210fe48426975;da45f657e4591caadf1589a85a1f7b8932585595;797e3e972ad02d947be4c64d2b06b775b6df7a49;3fd2e115482e0c7b92aa3297688aefb6c3aa6fb8;fedbb4995d6de479c513576119965d71276f03d1;3ef9040509da05037cd402691a100d4b3dfeb7c4;f52e31edb9a1c79d3094620546ebbc7788edbaf8;1b9ea9b05e1aba0cfbaa30fae26f336a29920979;e478544eb8734c07a1943f5bdf4e6605be6943df;6898dad5706cd7b53efce6a2c28f8779abdd5126;a6bd27dd928875b84f691d4dfa1c1a3794c161f1;ce896dfbfc28af881ee097fc737fbbb793831740;a8eb423eac21b4bd541773b744c3bb8ac1e498ea;bbf69cc1b2562058fd65648ff2a7581673c14f9c;b3bf60ed73789369ad38365560b6ad840d9179da;0246c67708423cf0f5e87c0895f605f5260a4165;5b463a93c23c8104273c0de7067da891a09cfcfa;f92ac533c4b78012317f6ffda4c37b15b119e78a;7c1fb2881971fcd87d0cb05473305054268e0bf2;3244274d341bed5ff66a57c37723fa8ebfb31141;4373733e7c618f67365dbb6e6a3feafcd94b00a6;dcff2c52597c5837c353a322da825cc7246e8375;f3d88422298caf291fbd5da59ee587358faff71f;aacc10e64ea09b96af5e23983ec4731aebfb2953;c9cc0b8831a8ad61bc61eda79e0dc0142d775d77;cbdc4b871425deb1c44850dbcf05f26b6d8d6414;57d5a678c52d9a7f0d33a63b45c2f821813e011c;a0e3f2b4433df916ffaef437d2dc8fc25e5f66df;3bbf38dbb2bdf356beede3f6c84c716a2598f692;288aa8f20e72482ec889bc5c8e4cd2b0b7a12f4b;7944b1a179a6c2eb77ac671a00419dcee5487c26;f0e1c6a1f2546b7bf8968974dd1ba58a81d61d1e\", \"score_000\": \"0.7461420932009167;0.7500381970970207;0.710941346235464;0.6784568372803668;0.7604787369493251;0.7227739580680757;0.7513708513708514;0.7708853238265002;0.6511416687887276;0.75007215007215;0.6862914862914863;0.7656735421441303;0.7578983108394872;0.7656820303879128;0.7148459383753502;0.6784568372803667;0.7604532722179781;0.7695951107715814;0.6809863339275104;0.7682709447415329;0.7409303115185468;0.7513538748832866;0.7708938120702825;0.7057974705033528;0.7500127323656736;0.7123503947033358;0.7084712672947967;0.7448349036584331;0.645912910618793;0.6719548425430778;0.6017910194380783;0.7382819794584501;0.6940412528647822;0.7422629657923775;0.7760631525337407;0.7708938120702825;0.7552499787793906;0.7383413971649265;0.7644087938205585;0.7695272048213224;0.6485357779475427;0.6732111026228674;0.7214582802818097;0.6576606400135812;0.7344452932688228;0.6511416687887276;0.7058314234784823;0.6993294287411935;NaN;NaN;0.7383668618962738;0.7643493761140819;0.7774042950513538\", \"predicted_cost_000\": \"0;0;0.5;0.5;0.5;0.5;0.5;0.5;0.5;0.5;0.5;0.5;0.5;0.5;0.5;0.5;0.5;0.5;0.5;0.5;0.5126121915611055;0.06669833707189857;0.2207424821042393;0.02113228344275699;0.050067291574491;0.11272256975889662;0.018356458956561093;0.06611026563168776;0.023171567568965948;0.12844739757743595;0.018247940538552505;0.18859318821774265;0.12964260655596538;0.011938557434282225;0.11478203916868529;0.07925056454447592;0.008984457506343996;0.023998853786118858;0.013016372151333895;0.06609332610250047;0.06233573012955753;0.07488710606406772;0.09704077793634965;0.39019619558274954;0.18158244300913517;0.14594607439178106;0.096662340208786;0.10103222352745463;0.12553077756918507;0.03935437607609821;0.025399645918573206;0;0\", \"fit_time_000\": \"0.08283099999999999;0.1868974;0.29747399999999996;0.038243000000000006;0.0329266;0.0133492;0.0294966;0.041426000000000004;0.047470200000000004;0.019840600000000003;0.35795040000000006;0.087117;0.1250564;0.0776022;0.39821300000000004;0.012001399999999999;0.0347012;0.08879239999999998;0.015301199999999997;0.023174200000000002;0.7179306;0.0208564;0.103666;0.0514316;0.041260399999999996;0.032999;0.012574199999999999;0.0351306;0.0233594;0.21772239999999998;0.0106324;0.5784784000000001;0.1403356;0.020998399999999997;0.036759;0.0276188;0.0588066;0.057789400000000005;0.015552;0.030322599999999998;0.0239846;0.0204866;0.3369348;0.8937984;0.5639641999999999;0.019893199999999996;0.0845216;0.039949200000000004;NaN;NaN;0.013486599999999998;31;31\", \"training_percent_000\": \"100;100;100;100;100;100;100;100;100;100;100;100;100;100;100;100;100;100;100;100;100;100;100;100;100;100;100;100;100;100;100;100;100;100;100;100;100;100;100;100;100;100;100;100;100;100;100;100;100;100;100;100;100\", \"iteration_000\": \"0;1;2;3;4;5;6;7;8;9;15;16;17;18;19;10;11;12;13;14;20;24;23;22;21;25;26;27;28;29;30;31;32;33;34;35;36;37;38;39;40;41;42;43;44;45;46;47;49;50;48;52;51\", \"run_preprocessor_000\": \"MaxAbsScaler;MaxAbsScaler;MaxAbsScaler;SparseNormalizer;MaxAbsScaler;MaxAbsScaler;StandardScalerWrapper;MaxAbsScaler;StandardScalerWrapper;StandardScalerWrapper;SparseNormalizer;StandardScalerWrapper;StandardScalerWrapper;StandardScalerWrapper;TruncatedSVDWrapper;SparseNormalizer;StandardScalerWrapper;MaxAbsScaler;MaxAbsScaler;StandardScalerWrapper;TruncatedSVDWrapper;StandardScalerWrapper;StandardScalerWrapper;SparseNormalizer;StandardScalerWrapper;MaxAbsScaler;StandardScalerWrapper;StandardScalerWrapper;SparseNormalizer;SparseNormalizer;MaxAbsScaler;StandardScalerWrapper;SparseNormalizer;StandardScalerWrapper;StandardScalerWrapper;MaxAbsScaler;StandardScalerWrapper;MaxAbsScaler;MaxAbsScaler;StandardScalerWrapper;TruncatedSVDWrapper;SparseNormalizer;StandardScalerWrapper;SparseNormalizer;MaxAbsScaler;SparseNormalizer;SparseNormalizer;SparseNormalizer;StandardScalerWrapper;;MaxAbsScaler;;\", \"run_algorithm_000\": \"LightGBM;XGBoostClassifier;ExtremeRandomTrees;XGBoostClassifier;LightGBM;LightGBM;XGBoostClassifier;LogisticRegression;ExtremeRandomTrees;XGBoostClassifier;RandomForest;LogisticRegression;RandomForest;XGBoostClassifier;RandomForest;LightGBM;XGBoostClassifier;LogisticRegression;SGD;XGBoostClassifier;RandomForest;RandomForest;LogisticRegression;XGBoostClassifier;XGBoostClassifier;LogisticRegression;LightGBM;LightGBM;LightGBM;XGBoostClassifier;LogisticRegression;RandomForest;XGBoostClassifier;LightGBM;LogisticRegression;LogisticRegression;GradientBoosting;ExtremeRandomTrees;LightGBM;XGBoostClassifier;LogisticRegression;LightGBM;ExtremeRandomTrees;ExtremeRandomTrees;ExtremeRandomTrees;LogisticRegression;XGBoostClassifier;XGBoostClassifier;RandomForest;;LightGBM;StackEnsemble;VotingEnsemble\", \"dynamic_allowlisting_iterations\": \"<25>;<30>;<35>;<40>;<45>;<50>;\", \"pipeline_id_001\": \"a5aeac9aab25c45f6b131c539edd947eff942e8d;6adc62ad152c1993ae16e2a77eb080d750ac5b40;3b6beb1da66ff95274b7bfbc4fab454668b75059;__AutoML_Stack_Ensemble__;__AutoML_Ensemble__\", \"_aml_system_azureml.automl_early_exit_message\": \"No scores improved over last 10 iterations, so experiment stopped early. This early stopping behavior can be disabled by setting enable_early_stopping = False in AutoMLConfig for notebook/python SDK runs.\", \"automl_best_child_run_id\": \"AutoML_56ac2cae-8af3-4a48-b087-94d371fb4fa5_51\", \"model_explain_best_run_child_id\": \"AutoML_56ac2cae-8af3-4a48-b087-94d371fb4fa5_51\"}, \"end_time_utc\": \"2023-07-29T15:55:01.575053Z\", \"status\": \"Completed\", \"log_files\": {}, \"log_groups\": [], \"run_duration\": \"0:23:48\", \"run_number\": \"1690644673\", \"run_queued_details\": {\"status\": \"Completed\", \"details\": null}}, \"child_runs\": [{\"run_id\": \"AutoML_56ac2cae-8af3-4a48-b087-94d371fb4fa5_setup\", \"run_number\": 1690644686, \"metric\": null, \"status\": \"Completed\", \"run_type\": \"azureml.scriptrun\", \"training_percent\": null, \"start_time\": \"2023-07-29T15:36:06.088863Z\", \"end_time\": \"2023-07-29T15:38:21.921846Z\", \"created_time\": \"2023-07-29T15:31:26.134199Z\", \"created_time_dt\": \"2023-07-29T15:31:26.134199Z\", \"duration\": \"0:06:55\", \"iteration\": null, \"goal\": null, \"run_name\": \"Completed\", \"run_properties\": null}, {\"run_id\": \"AutoML_56ac2cae-8af3-4a48-b087-94d371fb4fa5_featurize\", \"run_number\": 1690645102, \"metric\": null, \"status\": \"Completed\", \"run_type\": \"automl.featurization\", \"training_percent\": null, \"start_time\": \"2023-07-29T15:38:22.672292Z\", \"end_time\": \"2023-07-29T15:39:58.448919Z\", \"created_time\": \"2023-07-29T15:38:22.286537Z\", \"created_time_dt\": \"2023-07-29T15:38:22.286537Z\", \"duration\": \"0:01:36\", \"iteration\": null, \"goal\": null, \"run_name\": \"Completed\", \"run_properties\": null}, {\"run_id\": \"AutoML_56ac2cae-8af3-4a48-b087-94d371fb4fa5_0\", \"run_number\": 1690645200, \"metric\": null, \"status\": \"Completed\", \"run_type\": null, \"training_percent\": \"100\", \"start_time\": \"2023-07-29T15:40:22.50951Z\", \"end_time\": \"2023-07-29T15:40:37.430256Z\", \"created_time\": \"2023-07-29T15:40:00.047646Z\", \"created_time_dt\": \"2023-07-29T15:40:00.047646Z\", \"duration\": \"0:00:37\", \"iteration\": \"0\", \"goal\": \"accuracy_max\", \"run_name\": \"MaxAbsScaler, LightGBM\", \"run_properties\": \"copy=True\", \"primary_metric\": 0.74614209, \"best_metric\": 0.74614209}, {\"run_id\": \"AutoML_56ac2cae-8af3-4a48-b087-94d371fb4fa5_2\", \"run_number\": 1690645201, \"metric\": null, \"status\": \"Completed\", \"run_type\": null, \"training_percent\": \"100\", \"start_time\": \"2023-07-29T15:40:52.32087Z\", \"end_time\": \"2023-07-29T15:41:06.550748Z\", \"created_time\": \"2023-07-29T15:40:01.090818Z\", \"created_time_dt\": \"2023-07-29T15:40:01.090818Z\", \"duration\": \"0:01:05\", \"iteration\": \"2\", \"goal\": \"accuracy_max\", \"run_name\": \"MaxAbsScaler, ExtremeRandomTrees\", \"run_properties\": \"copy=True\", \"primary_metric\": 0.71094135, \"best_metric\": 0.74614209}, {\"run_id\": \"AutoML_56ac2cae-8af3-4a48-b087-94d371fb4fa5_worker_0\", \"run_number\": 1690645202, \"metric\": null, \"status\": \"Completed\", \"run_type\": \"azureml.scriptrun\", \"training_percent\": null, \"start_time\": \"2023-07-29T15:40:10.583437Z\", \"end_time\": \"2023-07-29T15:41:44.987124Z\", \"created_time\": \"2023-07-29T15:40:02.415856Z\", \"created_time_dt\": \"2023-07-29T15:40:02.415856Z\", \"duration\": \"0:01:42\", \"iteration\": null, \"goal\": null, \"run_name\": \"Completed\", \"run_properties\": null}, {\"run_id\": \"AutoML_56ac2cae-8af3-4a48-b087-94d371fb4fa5_6\", \"run_number\": 1690645203, \"metric\": null, \"status\": \"Completed\", \"run_type\": null, \"training_percent\": \"100\", \"start_time\": \"2023-07-29T15:42:18.439291Z\", \"end_time\": \"2023-07-29T15:42:31.131664Z\", \"created_time\": \"2023-07-29T15:40:03.095521Z\", \"created_time_dt\": \"2023-07-29T15:40:03.095521Z\", \"duration\": \"0:02:28\", \"iteration\": \"6\", \"goal\": \"accuracy_max\", \"run_name\": \"StandardScalerWrapper, XGBoostClassifier\", \"run_properties\": \"copy=True, with_mean=False, with_std=False\", \"primary_metric\": 0.75137085, \"best_metric\": 0.75137085}, {\"run_id\": \"AutoML_56ac2cae-8af3-4a48-b087-94d371fb4fa5_8\", \"run_number\": 1690645204, \"metric\": null, \"status\": \"Completed\", \"run_type\": null, \"training_percent\": \"100\", \"start_time\": \"2023-07-29T15:42:45.650826Z\", \"end_time\": \"2023-07-29T15:42:58.299281Z\", \"created_time\": \"2023-07-29T15:40:04.208547Z\", \"created_time_dt\": \"2023-07-29T15:40:04.208547Z\", \"duration\": \"0:02:54\", \"iteration\": \"8\", \"goal\": \"accuracy_max\", \"run_name\": \"StandardScalerWrapper, ExtremeRandomTrees\", \"run_properties\": \"copy=True, with_mean=False, with_std=False\", \"primary_metric\": 0.65114167, \"best_metric\": 0.75137085}, {\"run_id\": \"AutoML_56ac2cae-8af3-4a48-b087-94d371fb4fa5_worker_1\", \"run_number\": 1690645205, \"metric\": null, \"status\": \"Completed\", \"run_type\": \"azureml.scriptrun\", \"training_percent\": null, \"start_time\": \"2023-07-29T15:41:50.03083Z\", \"end_time\": \"2023-07-29T15:43:20.959081Z\", \"created_time\": \"2023-07-29T15:40:05.059703Z\", \"created_time_dt\": \"2023-07-29T15:40:05.059703Z\", \"duration\": \"0:03:15\", \"iteration\": null, \"goal\": null, \"run_name\": \"Completed\", \"run_properties\": null}, {\"run_id\": \"AutoML_56ac2cae-8af3-4a48-b087-94d371fb4fa5_12\", \"run_number\": 1690645206, \"metric\": null, \"status\": \"Completed\", \"run_type\": null, \"training_percent\": \"100\", \"start_time\": \"2023-07-29T15:46:32.674618Z\", \"end_time\": \"2023-07-29T15:46:45.534215Z\", \"created_time\": \"2023-07-29T15:40:06.275029Z\", \"created_time_dt\": \"2023-07-29T15:40:06.275029Z\", \"duration\": \"0:06:39\", \"iteration\": \"12\", \"goal\": \"accuracy_max\", \"run_name\": \"MaxAbsScaler, LogisticRegression\", \"run_properties\": \"copy=True\", \"primary_metric\": 0.76959511, \"best_metric\": 0.76959511}, {\"run_id\": \"AutoML_56ac2cae-8af3-4a48-b087-94d371fb4fa5_15\", \"run_number\": 1690645207, \"metric\": null, \"status\": \"Completed\", \"run_type\": null, \"training_percent\": \"100\", \"start_time\": \"2023-07-29T15:43:38.614511Z\", \"end_time\": \"2023-07-29T15:43:55.629634Z\", \"created_time\": \"2023-07-29T15:40:07.820948Z\", \"created_time_dt\": \"2023-07-29T15:40:07.820948Z\", \"duration\": \"0:03:47\", \"iteration\": \"15\", \"goal\": \"accuracy_max\", \"run_name\": \"SparseNormalizer, RandomForest\", \"run_properties\": \"copy=True, norm='l2'\", \"primary_metric\": 0.68629149, \"best_metric\": 0.76959511}, {\"run_id\": \"AutoML_56ac2cae-8af3-4a48-b087-94d371fb4fa5_16\", \"run_number\": 1690645208, \"metric\": null, \"status\": \"Completed\", \"run_type\": null, \"training_percent\": \"100\", \"start_time\": \"2023-07-29T15:43:56.468696Z\", \"end_time\": \"2023-07-29T15:44:09.151981Z\", \"created_time\": \"2023-07-29T15:40:08.324823Z\", \"created_time_dt\": \"2023-07-29T15:40:08.324823Z\", \"duration\": \"0:04:00\", \"iteration\": \"16\", \"goal\": \"accuracy_max\", \"run_name\": \"StandardScalerWrapper, LogisticRegression\", \"run_properties\": \"copy=True, with_mean=False, with_std=False\", \"primary_metric\": 0.76567354, \"best_metric\": 0.76959511}, {\"run_id\": \"AutoML_56ac2cae-8af3-4a48-b087-94d371fb4fa5_18\", \"run_number\": 1690645209, \"metric\": null, \"status\": \"Completed\", \"run_type\": null, \"training_percent\": \"100\", \"start_time\": \"2023-07-29T15:44:23.845784Z\", \"end_time\": \"2023-07-29T15:44:37.277647Z\", \"created_time\": \"2023-07-29T15:40:09.373939Z\", \"created_time_dt\": \"2023-07-29T15:40:09.373939Z\", \"duration\": \"0:04:27\", \"iteration\": \"18\", \"goal\": \"accuracy_max\", \"run_name\": \"StandardScalerWrapper, XGBoostClassifier\", \"run_properties\": \"copy=True, with_mean=False, with_std=False\", \"primary_metric\": 0.76568203, \"best_metric\": 0.76959511}, {\"run_id\": \"AutoML_56ac2cae-8af3-4a48-b087-94d371fb4fa5_worker_3\", \"run_number\": 1690645210, \"metric\": null, \"status\": \"Completed\", \"run_type\": \"azureml.scriptrun\", \"training_percent\": null, \"start_time\": \"2023-07-29T15:43:26.688683Z\", \"end_time\": \"2023-07-29T15:45:02.609357Z\", \"created_time\": \"2023-07-29T15:40:10.179359Z\", \"created_time_dt\": \"2023-07-29T15:40:10.179359Z\", \"duration\": \"0:04:52\", \"iteration\": null, \"goal\": null, \"run_name\": \"Completed\", \"run_properties\": null}, {\"run_id\": \"AutoML_56ac2cae-8af3-4a48-b087-94d371fb4fa5_22\", \"run_number\": 1690645596, \"metric\": null, \"status\": \"Completed\", \"run_type\": \"azureml.scriptrun\", \"training_percent\": \"100\", \"start_time\": \"2023-07-29T15:46:54.312087Z\", \"end_time\": \"2023-07-29T15:49:04.219756Z\", \"created_time\": \"2023-07-29T15:46:36.029532Z\", \"created_time_dt\": \"2023-07-29T15:46:36.029532Z\", \"duration\": \"0:02:28\", \"iteration\": \"22\", \"goal\": \"accuracy_max\", \"run_name\": \"SparseNormalizer, XGBoostClassifier\", \"run_properties\": \"copy=True, norm='l1'\", \"primary_metric\": 0.70579747, \"best_metric\": 0.76959511}, {\"run_id\": \"AutoML_56ac2cae-8af3-4a48-b087-94d371fb4fa5_24\", \"run_number\": 1690645676, \"metric\": null, \"status\": \"Completed\", \"run_type\": \"azureml.scriptrun\", \"training_percent\": \"100\", \"start_time\": \"2023-07-29T15:48:07.593295Z\", \"end_time\": \"2023-07-29T15:48:42.473874Z\", \"created_time\": \"2023-07-29T15:47:56.016418Z\", \"created_time_dt\": \"2023-07-29T15:47:56.016418Z\", \"duration\": \"0:00:46\", \"iteration\": \"24\", \"goal\": \"accuracy_max\", \"run_name\": \"StandardScalerWrapper, RandomForest\", \"run_properties\": \"copy=True, with_mean=False, with_std=False\", \"primary_metric\": 0.75135387, \"best_metric\": 0.76959511}, {\"run_id\": \"AutoML_56ac2cae-8af3-4a48-b087-94d371fb4fa5_25\", \"run_number\": 1690645725, \"metric\": null, \"status\": \"Completed\", \"run_type\": \"azureml.scriptrun\", \"training_percent\": \"100\", \"start_time\": \"2023-07-29T15:48:52.905453Z\", \"end_time\": \"2023-07-29T15:49:26.911751Z\", \"created_time\": \"2023-07-29T15:48:45.498655Z\", \"created_time_dt\": \"2023-07-29T15:48:45.498655Z\", \"duration\": \"0:00:41\", \"iteration\": \"25\", \"goal\": \"accuracy_max\", \"run_name\": \"MaxAbsScaler, LogisticRegression\", \"run_properties\": \"copy=True\", \"primary_metric\": 0.71235039, \"best_metric\": 0.76959511}, {\"run_id\": \"AutoML_56ac2cae-8af3-4a48-b087-94d371fb4fa5_26\", \"run_number\": 1690645731, \"metric\": null, \"status\": \"Completed\", \"run_type\": \"azureml.scriptrun\", \"training_percent\": \"100\", \"start_time\": \"2023-07-29T15:49:02.821135Z\", \"end_time\": \"2023-07-29T15:49:36.561985Z\", \"created_time\": \"2023-07-29T15:48:51.811955Z\", \"created_time_dt\": \"2023-07-29T15:48:51.811955Z\", \"duration\": \"0:00:44\", \"iteration\": \"26\", \"goal\": \"accuracy_max\", \"run_name\": \"StandardScalerWrapper, LightGBM\", \"run_properties\": \"copy=True, with_mean=False, with_std=False\", \"primary_metric\": 0.70847127, \"best_metric\": 0.76959511}, {\"run_id\": \"AutoML_56ac2cae-8af3-4a48-b087-94d371fb4fa5_27\", \"run_number\": 1690645746, \"metric\": null, \"status\": \"Completed\", \"run_type\": \"azureml.scriptrun\", \"training_percent\": \"100\", \"start_time\": \"2023-07-29T15:49:14.905933Z\", \"end_time\": \"2023-07-29T15:49:47.505929Z\", \"created_time\": \"2023-07-29T15:49:06.338154Z\", \"created_time_dt\": \"2023-07-29T15:49:06.338154Z\", \"duration\": \"0:00:41\", \"iteration\": \"27\", \"goal\": \"accuracy_max\", \"run_name\": \"StandardScalerWrapper, LightGBM\", \"run_properties\": \"copy=True, with_mean=False, with_std=False\", \"primary_metric\": 0.7448349, \"best_metric\": 0.76959511}, {\"run_id\": \"AutoML_56ac2cae-8af3-4a48-b087-94d371fb4fa5_28\", \"run_number\": 1690645760, \"metric\": null, \"status\": \"Completed\", \"run_type\": \"azureml.scriptrun\", \"training_percent\": \"100\", \"start_time\": \"2023-07-29T15:49:32.142238Z\", \"end_time\": \"2023-07-29T15:50:04.208064Z\", \"created_time\": \"2023-07-29T15:49:20.928452Z\", \"created_time_dt\": \"2023-07-29T15:49:20.928452Z\", \"duration\": \"0:00:43\", \"iteration\": \"28\", \"goal\": \"accuracy_max\", \"run_name\": \"SparseNormalizer, LightGBM\", \"run_properties\": \"copy=True, norm='l2'\", \"primary_metric\": 0.64591291, \"best_metric\": 0.76959511}, {\"run_id\": \"AutoML_56ac2cae-8af3-4a48-b087-94d371fb4fa5_29\", \"run_number\": 1690645768, \"metric\": null, \"status\": \"Completed\", \"run_type\": \"azureml.scriptrun\", \"training_percent\": \"100\", \"start_time\": \"2023-07-29T15:49:37.295169Z\", \"end_time\": \"2023-07-29T15:50:11.732794Z\", \"created_time\": \"2023-07-29T15:49:28.656412Z\", \"created_time_dt\": \"2023-07-29T15:49:28.656412Z\", \"duration\": \"0:00:43\", \"iteration\": \"29\", \"goal\": \"accuracy_max\", \"run_name\": \"SparseNormalizer, XGBoostClassifier\", \"run_properties\": \"copy=True, norm='l1'\", \"primary_metric\": 0.67195484, \"best_metric\": 0.76959511}, {\"run_id\": \"AutoML_56ac2cae-8af3-4a48-b087-94d371fb4fa5_30\", \"run_number\": 1690645779, \"metric\": null, \"status\": \"Completed\", \"run_type\": \"azureml.scriptrun\", \"training_percent\": \"100\", \"start_time\": \"2023-07-29T15:49:48.204271Z\", \"end_time\": \"2023-07-29T15:50:21.338268Z\", \"created_time\": \"2023-07-29T15:49:39.398441Z\", \"created_time_dt\": \"2023-07-29T15:49:39.398441Z\", \"duration\": \"0:00:41\", \"iteration\": \"30\", \"goal\": \"accuracy_max\", \"run_name\": \"MaxAbsScaler, LogisticRegression\", \"run_properties\": \"copy=True\", \"primary_metric\": 0.60179102, \"best_metric\": 0.76959511}, {\"run_id\": \"AutoML_56ac2cae-8af3-4a48-b087-94d371fb4fa5_31\", \"run_number\": 1690645789, \"metric\": null, \"status\": \"Completed\", \"run_type\": \"azureml.scriptrun\", \"training_percent\": \"100\", \"start_time\": \"2023-07-29T15:49:59.195976Z\", \"end_time\": \"2023-07-29T15:50:34.587847Z\", \"created_time\": \"2023-07-29T15:49:49.195844Z\", \"created_time_dt\": \"2023-07-29T15:49:49.195844Z\", \"duration\": \"0:00:45\", \"iteration\": \"31\", \"goal\": \"accuracy_max\", \"run_name\": \"StandardScalerWrapper, RandomForest\", \"run_properties\": \"copy=True, with_mean=False, with_std=False\", \"primary_metric\": 0.73828198, \"best_metric\": 0.76959511}, {\"run_id\": \"AutoML_56ac2cae-8af3-4a48-b087-94d371fb4fa5_32\", \"run_number\": 1690645806, \"metric\": null, \"status\": \"Completed\", \"run_type\": \"azureml.scriptrun\", \"training_percent\": \"100\", \"start_time\": \"2023-07-29T15:50:15.339874Z\", \"end_time\": \"2023-07-29T15:50:47.635961Z\", \"created_time\": \"2023-07-29T15:50:06.044578Z\", \"created_time_dt\": \"2023-07-29T15:50:06.044578Z\", \"duration\": \"0:00:41\", \"iteration\": \"32\", \"goal\": \"accuracy_max\", \"run_name\": \"SparseNormalizer, XGBoostClassifier\", \"run_properties\": \"copy=True, norm='l2'\", \"primary_metric\": 0.69404125, \"best_metric\": 0.76959511}, {\"run_id\": \"AutoML_56ac2cae-8af3-4a48-b087-94d371fb4fa5_33\", \"run_number\": 1690645813, \"metric\": null, \"status\": \"Completed\", \"run_type\": \"azureml.scriptrun\", \"training_percent\": \"100\", \"start_time\": \"2023-07-29T15:50:23.440052Z\", \"end_time\": \"2023-07-29T15:50:56.659439Z\", \"created_time\": \"2023-07-29T15:50:13.565606Z\", \"created_time_dt\": \"2023-07-29T15:50:13.565606Z\", \"duration\": \"0:00:43\", \"iteration\": \"33\", \"goal\": \"accuracy_max\", \"run_name\": \"StandardScalerWrapper, LightGBM\", \"run_properties\": \"copy=True, with_mean=False, with_std=False\", \"primary_metric\": 0.74226297, \"best_metric\": 0.76959511}, {\"run_id\": \"AutoML_56ac2cae-8af3-4a48-b087-94d371fb4fa5_34\", \"run_number\": 1690645822, \"metric\": null, \"status\": \"Completed\", \"run_type\": \"azureml.scriptrun\", \"training_percent\": \"100\", \"start_time\": \"2023-07-29T15:50:31.91169Z\", \"end_time\": \"2023-07-29T15:51:05.597211Z\", \"created_time\": \"2023-07-29T15:50:22.958543Z\", \"created_time_dt\": \"2023-07-29T15:50:22.958543Z\", \"duration\": \"0:00:42\", \"iteration\": \"34\", \"goal\": \"accuracy_max\", \"run_name\": \"StandardScalerWrapper, LogisticRegression\", \"run_properties\": \"copy=True, with_mean=False, with_std=True\", \"primary_metric\": 0.77606315, \"best_metric\": 0.77606315}, {\"run_id\": \"AutoML_56ac2cae-8af3-4a48-b087-94d371fb4fa5_35\", \"run_number\": 1690645837, \"metric\": null, \"status\": \"Completed\", \"run_type\": \"azureml.scriptrun\", \"training_percent\": \"100\", \"start_time\": \"2023-07-29T15:50:45.468652Z\", \"end_time\": \"2023-07-29T15:51:18.138395Z\", \"created_time\": \"2023-07-29T15:50:37.213383Z\", \"created_time_dt\": \"2023-07-29T15:50:37.213383Z\", \"duration\": \"0:00:40\", \"iteration\": \"35\", \"goal\": \"accuracy_max\", \"run_name\": \"MaxAbsScaler, LogisticRegression\", \"run_properties\": \"copy=True\", \"primary_metric\": 0.77089381, \"best_metric\": 0.77606315}, {\"run_id\": \"AutoML_56ac2cae-8af3-4a48-b087-94d371fb4fa5_36\", \"run_number\": 1690645849, \"metric\": null, \"status\": \"Completed\", \"run_type\": \"azureml.scriptrun\", \"training_percent\": \"100\", \"start_time\": \"2023-07-29T15:50:59.548006Z\", \"end_time\": \"2023-07-29T15:51:31.538637Z\", \"created_time\": \"2023-07-29T15:50:49.648565Z\", \"created_time_dt\": \"2023-07-29T15:50:49.648565Z\", \"duration\": \"0:00:41\", \"iteration\": \"36\", \"goal\": \"accuracy_max\", \"run_name\": \"StandardScalerWrapper, GradientBoosting\", \"run_properties\": \"copy=True, with_mean=False, with_std=False\", \"primary_metric\": 0.75524998, \"best_metric\": 0.77606315}, {\"run_id\": \"AutoML_56ac2cae-8af3-4a48-b087-94d371fb4fa5_37\", \"run_number\": 1690645858, \"metric\": null, \"status\": \"Completed\", \"run_type\": \"azureml.scriptrun\", \"training_percent\": \"100\", \"start_time\": \"2023-07-29T15:51:06.623275Z\", \"end_time\": \"2023-07-29T15:51:40.790507Z\", \"created_time\": \"2023-07-29T15:50:58.357617Z\", \"created_time_dt\": \"2023-07-29T15:50:58.357617Z\", \"duration\": \"0:00:42\", \"iteration\": \"37\", \"goal\": \"accuracy_max\", \"run_name\": \"MaxAbsScaler, ExtremeRandomTrees\", \"run_properties\": \"copy=True\", \"primary_metric\": 0.7383414, \"best_metric\": 0.77606315}, {\"run_id\": \"AutoML_56ac2cae-8af3-4a48-b087-94d371fb4fa5_38\", \"run_number\": 1690645867, \"metric\": null, \"status\": \"Completed\", \"run_type\": \"azureml.scriptrun\", \"training_percent\": \"100\", \"start_time\": \"2023-07-29T15:51:17.870919Z\", \"end_time\": \"2023-07-29T15:51:51.358443Z\", \"created_time\": \"2023-07-29T15:51:07.19396Z\", \"created_time_dt\": \"2023-07-29T15:51:07.19396Z\", \"duration\": \"0:00:44\", \"iteration\": \"38\", \"goal\": \"accuracy_max\", \"run_name\": \"MaxAbsScaler, LightGBM\", \"run_properties\": \"copy=True\", \"primary_metric\": 0.76440879, \"best_metric\": 0.77606315}, {\"run_id\": \"AutoML_56ac2cae-8af3-4a48-b087-94d371fb4fa5_39\", \"run_number\": 1690645879, \"metric\": null, \"status\": \"Completed\", \"run_type\": \"azureml.scriptrun\", \"training_percent\": \"100\", \"start_time\": \"2023-07-29T15:51:29.74594Z\", \"end_time\": \"2023-07-29T15:52:01.406067Z\", \"created_time\": \"2023-07-29T15:51:19.84213Z\", \"created_time_dt\": \"2023-07-29T15:51:19.84213Z\", \"duration\": \"0:00:41\", \"iteration\": \"39\", \"goal\": \"accuracy_max\", \"run_name\": \"StandardScalerWrapper, XGBoostClassifier\", \"run_properties\": \"copy=True, with_mean=False, with_std=False\", \"primary_metric\": 0.7695272, \"best_metric\": 0.77606315}, {\"run_id\": \"AutoML_56ac2cae-8af3-4a48-b087-94d371fb4fa5_40\", \"run_number\": 1690645894, \"metric\": null, \"status\": \"Completed\", \"run_type\": \"azureml.scriptrun\", \"training_percent\": \"100\", \"start_time\": \"2023-07-29T15:51:44.813526Z\", \"end_time\": \"2023-07-29T15:52:16.607368Z\", \"created_time\": \"2023-07-29T15:51:34.553429Z\", \"created_time_dt\": \"2023-07-29T15:51:34.553429Z\", \"duration\": \"0:00:42\", \"iteration\": \"40\", \"goal\": \"accuracy_max\", \"run_name\": \"TruncatedSVDWrapper, LogisticRegression\", \"run_properties\": \"n_components=0.05947368421052632, random_state=None\", \"primary_metric\": 0.64853578, \"best_metric\": 0.77606315}, {\"run_id\": \"AutoML_56ac2cae-8af3-4a48-b087-94d371fb4fa5_41\", \"run_number\": 1690645902, \"metric\": null, \"status\": \"Completed\", \"run_type\": \"azureml.scriptrun\", \"training_percent\": \"100\", \"start_time\": \"2023-07-29T15:51:52.82873Z\", \"end_time\": \"2023-07-29T15:52:25.672131Z\", \"created_time\": \"2023-07-29T15:51:42.553346Z\", \"created_time_dt\": \"2023-07-29T15:51:42.553346Z\", \"duration\": \"0:00:43\", \"iteration\": \"41\", \"goal\": \"accuracy_max\", \"run_name\": \"SparseNormalizer, LightGBM\", \"run_properties\": \"copy=True, norm='l2'\", \"primary_metric\": 0.6732111, \"best_metric\": 0.77606315}, {\"run_id\": \"AutoML_56ac2cae-8af3-4a48-b087-94d371fb4fa5_42\", \"run_number\": 1690645913, \"metric\": null, \"status\": \"Completed\", \"run_type\": \"azureml.scriptrun\", \"training_percent\": \"100\", \"start_time\": \"2023-07-29T15:52:02.007192Z\", \"end_time\": \"2023-07-29T15:52:37.574664Z\", \"created_time\": \"2023-07-29T15:51:53.079518Z\", \"created_time_dt\": \"2023-07-29T15:51:53.079518Z\", \"duration\": \"0:00:44\", \"iteration\": \"42\", \"goal\": \"accuracy_max\", \"run_name\": \"StandardScalerWrapper, ExtremeRandomTrees\", \"run_properties\": \"copy=True, with_mean=False, with_std=True\", \"primary_metric\": 0.72145828, \"best_metric\": 0.77606315}, {\"run_id\": \"AutoML_56ac2cae-8af3-4a48-b087-94d371fb4fa5_43\", \"run_number\": 1690645923, \"metric\": null, \"status\": \"Completed\", \"run_type\": \"azureml.scriptrun\", \"training_percent\": \"100\", \"start_time\": \"2023-07-29T15:52:15.076013Z\", \"end_time\": \"2023-07-29T15:52:53.096049Z\", \"created_time\": \"2023-07-29T15:52:03.272012Z\", \"created_time_dt\": \"2023-07-29T15:52:03.272012Z\", \"duration\": \"0:00:49\", \"iteration\": \"43\", \"goal\": \"accuracy_max\", \"run_name\": \"SparseNormalizer, ExtremeRandomTrees\", \"run_properties\": \"copy=True, norm='l1'\", \"primary_metric\": 0.65766064, \"best_metric\": 0.77606315}, {\"run_id\": \"AutoML_56ac2cae-8af3-4a48-b087-94d371fb4fa5_44\", \"run_number\": 1690645938, \"metric\": null, \"status\": \"Completed\", \"run_type\": \"azureml.scriptrun\", \"training_percent\": \"100\", \"start_time\": \"2023-07-29T15:52:29.163447Z\", \"end_time\": \"2023-07-29T15:53:04.351481Z\", \"created_time\": \"2023-07-29T15:52:18.464087Z\", \"created_time_dt\": \"2023-07-29T15:52:18.464087Z\", \"duration\": \"0:00:45\", \"iteration\": \"44\", \"goal\": \"accuracy_max\", \"run_name\": \"MaxAbsScaler, ExtremeRandomTrees\", \"run_properties\": \"copy=True\", \"primary_metric\": 0.73444529, \"best_metric\": 0.77606315}, {\"run_id\": \"AutoML_56ac2cae-8af3-4a48-b087-94d371fb4fa5_45\", \"run_number\": 1690645948, \"metric\": null, \"status\": \"Completed\", \"run_type\": \"azureml.scriptrun\", \"training_percent\": \"100\", \"start_time\": \"2023-07-29T15:52:36.018853Z\", \"end_time\": \"2023-07-29T15:53:09.911976Z\", \"created_time\": \"2023-07-29T15:52:28.268547Z\", \"created_time_dt\": \"2023-07-29T15:52:28.268547Z\", \"duration\": \"0:00:41\", \"iteration\": \"45\", \"goal\": \"accuracy_max\", \"run_name\": \"SparseNormalizer, LogisticRegression\", \"run_properties\": \"copy=True, norm='max'\", \"primary_metric\": 0.65114167, \"best_metric\": 0.77606315}, {\"run_id\": \"AutoML_56ac2cae-8af3-4a48-b087-94d371fb4fa5_46\", \"run_number\": 1690645959, \"metric\": null, \"status\": \"Completed\", \"run_type\": \"azureml.scriptrun\", \"training_percent\": \"100\", \"start_time\": \"2023-07-29T15:52:49.210224Z\", \"end_time\": \"2023-07-29T15:53:22.583565Z\", \"created_time\": \"2023-07-29T15:52:39.279878Z\", \"created_time_dt\": \"2023-07-29T15:52:39.279878Z\", \"duration\": \"0:00:43\", \"iteration\": \"46\", \"goal\": \"accuracy_max\", \"run_name\": \"SparseNormalizer, XGBoostClassifier\", \"run_properties\": \"copy=True, norm='max'\", \"primary_metric\": 0.70583142, \"best_metric\": 0.77606315}, {\"run_id\": \"AutoML_56ac2cae-8af3-4a48-b087-94d371fb4fa5_47\", \"run_number\": 1690645974, \"metric\": null, \"status\": \"Completed\", \"run_type\": \"azureml.scriptrun\", \"training_percent\": \"100\", \"start_time\": \"2023-07-29T15:53:02.459039Z\", \"end_time\": \"2023-07-29T15:53:33.909796Z\", \"created_time\": \"2023-07-29T15:52:54.920803Z\", \"created_time_dt\": \"2023-07-29T15:52:54.920803Z\", \"duration\": \"0:00:38\", \"iteration\": \"47\", \"goal\": \"accuracy_max\", \"run_name\": \"SparseNormalizer, XGBoostClassifier\", \"run_properties\": \"copy=True, norm='max'\", \"primary_metric\": 0.69932943, \"best_metric\": 0.77606315}, {\"run_id\": \"AutoML_56ac2cae-8af3-4a48-b087-94d371fb4fa5_48\", \"run_number\": 1690645985, \"metric\": null, \"status\": \"Canceled\", \"run_type\": \"azureml.scriptrun\", \"training_percent\": \"100\", \"start_time\": \"2023-07-29T15:53:16.393662Z\", \"end_time\": \"2023-07-29T15:53:40.918114Z\", \"created_time\": \"2023-07-29T15:53:05.978021Z\", \"created_time_dt\": \"2023-07-29T15:53:05.978021Z\", \"duration\": \"0:00:34\", \"iteration\": \"48\", \"goal\": \"accuracy_max\", \"run_name\": \"MaxAbsScaler, LightGBM\", \"run_properties\": \"copy=True\", \"primary_metric\": 0.73836686, \"best_metric\": 0.77606315}, {\"run_id\": \"AutoML_56ac2cae-8af3-4a48-b087-94d371fb4fa5_49\", \"run_number\": 1690645991, \"metric\": null, \"status\": \"Canceled\", \"run_type\": \"azureml.scriptrun\", \"training_percent\": \"100\", \"start_time\": \"2023-07-29T15:53:18.609328Z\", \"end_time\": \"2023-07-29T15:53:40.322399Z\", \"created_time\": \"2023-07-29T15:53:11.541605Z\", \"created_time_dt\": \"2023-07-29T15:53:11.541605Z\", \"duration\": \"0:00:28\", \"iteration\": \"49\", \"goal\": null, \"run_name\": \"StandardScalerWrapper, RandomForest\", \"run_properties\": null}, {\"run_id\": \"AutoML_56ac2cae-8af3-4a48-b087-94d371fb4fa5_50\", \"run_number\": 1690646005, \"metric\": null, \"status\": \"Canceled\", \"run_type\": \"azureml.scriptrun\", \"training_percent\": \"100\", \"start_time\": \"2023-07-29T15:53:34.766728Z\", \"end_time\": \"2023-07-29T15:53:40.306674Z\", \"created_time\": \"2023-07-29T15:53:25.264865Z\", \"created_time_dt\": \"2023-07-29T15:53:25.264865Z\", \"duration\": \"0:00:15\", \"iteration\": \"50\", \"goal\": null, \"run_name\": \"Canceled\", \"run_properties\": null}, {\"run_id\": \"AutoML_56ac2cae-8af3-4a48-b087-94d371fb4fa5_52\", \"run_number\": 1690646021, \"metric\": null, \"status\": \"Completed\", \"run_type\": \"azureml.scriptrun\", \"training_percent\": \"100\", \"start_time\": \"2023-07-29T15:53:49.607936Z\", \"end_time\": \"2023-07-29T15:54:59.672255Z\", \"created_time\": \"2023-07-29T15:53:41.963407Z\", \"created_time_dt\": \"2023-07-29T15:53:41.963407Z\", \"duration\": \"0:01:17\", \"iteration\": \"52\", \"goal\": \"accuracy_max\", \"run_name\": \"StackEnsemble\", \"run_properties\": \"base_learners=[('34', Pipeline(memory=None, steps=[('standardscalerwrapper', StandardScalerWrapper(copy=True, with_mean=False, with_std=True\", \"primary_metric\": 0.76434938, \"best_metric\": 0.77606315}], \"children_metrics\": {\"categories\": [0], \"series\": {\"recall_score_macro\": [{\"categories\": [\"0\", \"2\", \"6\", \"8\", \"12\", \"15\", \"16\", \"18\", \"22\", \"24\", \"25\", \"26\", \"27\", \"28\", \"29\", \"30\", \"31\", \"32\", \"33\", \"34\", \"35\", \"36\", \"37\", \"38\", \"39\", \"40\", \"41\", \"42\", \"43\", \"44\", \"45\", \"46\", \"47\", \"48\", \"52\"], \"mode\": \"markers\", \"name\": \"recall_score_macro\", \"stepped\": false, \"type\": \"scatter\", \"data\": [0.7113838058691895, 0.7064777642935436, 0.6999328057382129, 0.5, 0.7195815011273605, 0.6754466355818796, 0.7193049961392621, 0.7298548001175094, 0.6392736957894644, 0.6864101669172149, 0.6100765354854204, 0.5969009106574259, 0.6533696843969556, 0.5018077803203662, 0.6193881695152987, 0.5, 0.7434364337326957, 0.6424894430924954, 0.6481265549979112, 0.7228535463569076, 0.721305639058395, 0.7074889717819275, 0.6540049465142995, 0.70445174186469, 0.7346730336655846, 0.5019510062369459, 0.5914534315271499, 0.6247415104482386, 0.5189536878550476, 0.6422346895718701, 0.5, 0.6518238075920533, 0.6456870812884533, 0.6411950528529269, 0.7103731350499266]}, {\"categories\": [\"0\", \"2\", \"6\", \"8\", \"12\", \"15\", \"16\", \"18\", \"22\", \"24\", \"25\", \"26\", \"27\", \"28\", \"29\", \"30\", \"31\", \"32\", \"33\", \"34\", \"35\", \"36\", \"37\", \"38\", \"39\", \"40\", \"41\", \"42\", \"43\", \"44\", \"45\", \"46\", \"47\", \"48\", \"52\"], \"mode\": \"lines\", \"name\": \"recall_score_macro_max\", \"stepped\": true, \"type\": \"scatter\", \"data\": [0.7113838058691895, 0.7113838058691895, 0.7113838058691895, 0.7113838058691895, 0.7195815011273605, 0.7195815011273605, 0.7195815011273605, 0.7298548001175094, 0.7298548001175094, 0.7298548001175094, 0.7298548001175094, 0.7298548001175094, 0.7298548001175094, 0.7298548001175094, 0.7298548001175094, 0.7298548001175094, 0.7434364337326957, 0.7434364337326957, 0.7434364337326957, 0.7434364337326957, 0.7434364337326957, 0.7434364337326957, 0.7434364337326957, 0.7434364337326957, 0.7434364337326957, 0.7434364337326957, 0.7434364337326957, 0.7434364337326957, 0.7434364337326957, 0.7434364337326957, 0.7434364337326957, 0.7434364337326957, 0.7434364337326957, 0.7434364337326957, 0.7434364337326957]}], \"f1_score_weighted\": [{\"categories\": [\"0\", \"2\", \"6\", \"8\", \"12\", \"15\", \"16\", \"18\", \"22\", \"24\", \"25\", \"26\", \"27\", \"28\", \"29\", \"30\", \"31\", \"32\", \"33\", \"34\", \"35\", \"36\", \"37\", \"38\", \"39\", \"40\", \"41\", \"42\", \"43\", \"44\", \"45\", \"46\", \"47\", \"48\", \"52\"], \"mode\": \"markers\", \"name\": \"f1_score_weighted\", \"stepped\": false, \"type\": \"scatter\", \"data\": [0.7439880015804127, 0.7173746237747015, 0.7429868727325698, 0.5146586817401758, 0.7621537594041591, 0.6920690791878913, 0.7589601576215195, 0.7627065103941973, 0.6908780201765786, 0.7354256066491628, 0.6634508954196263, 0.643658319816298, 0.7107750114657696, 0.5177110215005623, 0.6636497913540469, 0.4601234207747261, 0.7440881575148597, 0.6872323978874264, 0.7050288670563251, 0.7669711158710927, 0.7636281956902014, 0.7477217350306764, 0.7097673720242268, 0.752629263376162, 0.7671937457619473, 0.5223556118521065, 0.643554404447344, 0.6801041692790358, 0.5407166101230217, 0.6990718087141927, 0.5146586817401758, 0.6966713491581719, 0.6885919747153247, 0.6975347427432701, 0.7555135502429298]}, {\"categories\": [\"0\", \"2\", \"6\", \"8\", \"12\", \"15\", \"16\", \"18\", \"22\", \"24\", \"25\", \"26\", \"27\", \"28\", \"29\", \"30\", \"31\", \"32\", \"33\", \"34\", \"35\", \"36\", \"37\", \"38\", \"39\", \"40\", \"41\", \"42\", \"43\", \"44\", \"45\", \"46\", \"47\", \"48\", \"52\"], \"mode\": \"lines\", \"name\": \"f1_score_weighted_max\", \"stepped\": true, \"type\": \"scatter\", \"data\": [0.7439880015804127, 0.7439880015804127, 0.7439880015804127, 0.7439880015804127, 0.7621537594041591, 0.7621537594041591, 0.7621537594041591, 0.7627065103941973, 0.7627065103941973, 0.7627065103941973, 0.7627065103941973, 0.7627065103941973, 0.7627065103941973, 0.7627065103941973, 0.7627065103941973, 0.7627065103941973, 0.7627065103941973, 0.7627065103941973, 0.7627065103941973, 0.7669711158710927, 0.7669711158710927, 0.7669711158710927, 0.7669711158710927, 0.7669711158710927, 0.7671937457619473, 0.7671937457619473, 0.7671937457619473, 0.7671937457619473, 0.7671937457619473, 0.7671937457619473, 0.7671937457619473, 0.7671937457619473, 0.7671937457619473, 0.7671937457619473, 0.7671937457619473]}], \"precision_score_micro\": [{\"categories\": [\"0\", \"2\", \"6\", \"8\", \"12\", \"15\", \"16\", \"18\", \"22\", \"24\", \"25\", \"26\", \"27\", \"28\", \"29\", \"30\", \"31\", \"32\", \"33\", \"34\", \"35\", \"36\", \"37\", \"38\", \"39\", \"40\", \"41\", \"42\", \"43\", \"44\", \"45\", \"46\", \"47\", \"48\", \"52\"], \"mode\": \"markers\", \"name\": \"precision_score_micro\", \"stepped\": false, \"type\": \"scatter\", \"data\": [0.7461420932009167, 0.710941346235464, 0.7513708513708514, 0.6511416687887276, 0.7695951107715814, 0.6862914862914863, 0.7656735421441303, 0.7656820303879128, 0.7057974705033528, 0.7513538748832866, 0.7123503947033358, 0.7084712672947967, 0.7448349036584331, 0.645912910618793, 0.6719548425430778, 0.6017910194380783, 0.7382819794584501, 0.6940412528647822, 0.7422629657923775, 0.7760631525337407, 0.7708938120702825, 0.7552499787793906, 0.7383413971649265, 0.7644087938205585, 0.7695272048213224, 0.6485357779475427, 0.6732111026228674, 0.7214582802818097, 0.6576606400135812, 0.7344452932688228, 0.6511416687887276, 0.7058314234784823, 0.6993294287411935, 0.7383668618962738, 0.7643493761140819]}, {\"categories\": [\"0\", \"2\", \"6\", \"8\", \"12\", \"15\", \"16\", \"18\", \"22\", \"24\", \"25\", \"26\", \"27\", \"28\", \"29\", \"30\", \"31\", \"32\", \"33\", \"34\", \"35\", \"36\", \"37\", \"38\", \"39\", \"40\", \"41\", \"42\", \"43\", \"44\", \"45\", \"46\", \"47\", \"48\", \"52\"], \"mode\": \"lines\", \"name\": \"precision_score_micro_max\", \"stepped\": true, \"type\": \"scatter\", \"data\": [0.7461420932009167, 0.7461420932009167, 0.7513708513708514, 0.7513708513708514, 0.7695951107715814, 0.7695951107715814, 0.7695951107715814, 0.7695951107715814, 0.7695951107715814, 0.7695951107715814, 0.7695951107715814, 0.7695951107715814, 0.7695951107715814, 0.7695951107715814, 0.7695951107715814, 0.7695951107715814, 0.7695951107715814, 0.7695951107715814, 0.7695951107715814, 0.7760631525337407, 0.7760631525337407, 0.7760631525337407, 0.7760631525337407, 0.7760631525337407, 0.7760631525337407, 0.7760631525337407, 0.7760631525337407, 0.7760631525337407, 0.7760631525337407, 0.7760631525337407, 0.7760631525337407, 0.7760631525337407, 0.7760631525337407, 0.7760631525337407, 0.7760631525337407]}], \"AUC_macro\": [{\"categories\": [\"0\", \"2\", \"6\", \"8\", \"12\", \"15\", \"16\", \"18\", \"22\", \"24\", \"25\", \"26\", \"27\", \"28\", \"29\", \"30\", \"31\", \"32\", \"33\", \"34\", \"35\", \"36\", \"37\", \"38\", \"39\", \"40\", \"41\", \"42\", \"43\", \"44\", \"45\", \"46\", \"47\", \"48\", \"52\"], \"mode\": \"markers\", \"name\": \"AUC_macro\", \"stepped\": false, \"type\": \"scatter\", \"data\": [0.8044555568955882, 0.7916563051156372, 0.7943780358516352, 0.7648944792594807, 0.8216726383448745, 0.7521302168779282, 0.8073540979919335, 0.8225417011212661, 0.7460221803806013, 0.8210672852717591, 0.7911907008155195, 0.8397917858718197, 0.8259553300069566, 0.6949432482968166, 0.7033173458964785, 0.5, 0.8224205659317733, 0.7179977952420433, 0.8283736352114703, 0.8128624511203405, 0.8211598752235529, 0.827029181361816, 0.8110730158920028, 0.8235311461168102, 0.8325945358021054, 0.35818803560716034, 0.7026959091657289, 0.8061783879458349, 0.7193947728580055, 0.8163796928602718, 0.6383589184852684, 0.7511838278703383, 0.7361300462762752, 0.8305342740629073, 0.8302157927811832]}, {\"categories\": [\"0\", \"2\", \"6\", \"8\", \"12\", \"15\", \"16\", \"18\", \"22\", \"24\", \"25\", \"26\", \"27\", \"28\", \"29\", \"30\", \"31\", \"32\", \"33\", \"34\", \"35\", \"36\", \"37\", \"38\", \"39\", \"40\", \"41\", \"42\", \"43\", \"44\", \"45\", \"46\", \"47\", \"48\", \"52\"], \"mode\": \"lines\", \"name\": \"AUC_macro_max\", \"stepped\": true, \"type\": \"scatter\", \"data\": [0.8044555568955882, 0.8044555568955882, 0.8044555568955882, 0.8044555568955882, 0.8216726383448745, 0.8216726383448745, 0.8216726383448745, 0.8225417011212661, 0.8225417011212661, 0.8225417011212661, 0.8225417011212661, 0.8397917858718197, 0.8397917858718197, 0.8397917858718197, 0.8397917858718197, 0.8397917858718197, 0.8397917858718197, 0.8397917858718197, 0.8397917858718197, 0.8397917858718197, 0.8397917858718197, 0.8397917858718197, 0.8397917858718197, 0.8397917858718197, 0.8397917858718197, 0.8397917858718197, 0.8397917858718197, 0.8397917858718197, 0.8397917858718197, 0.8397917858718197, 0.8397917858718197, 0.8397917858718197, 0.8397917858718197, 0.8397917858718197, 0.8397917858718197]}], \"precision_score_weighted\": [{\"categories\": [\"0\", \"2\", \"6\", \"8\", \"12\", \"15\", \"16\", \"18\", \"22\", \"24\", \"25\", \"26\", \"27\", \"28\", \"29\", \"30\", \"31\", \"32\", \"33\", \"34\", \"35\", \"36\", \"37\", \"38\", \"39\", \"40\", \"41\", \"42\", \"43\", \"44\", \"45\", \"46\", \"47\", \"48\", \"52\"], \"mode\": \"markers\", \"name\": \"precision_score_weighted\", \"stepped\": false, \"type\": \"scatter\", \"data\": [0.7443216189800509, 0.7340695115551465, 0.7460012086537702, 0.4265500510508674, 0.7696244720654124, 0.7058249627845102, 0.7655349932590113, 0.7627712027260554, 0.6968812738805179, 0.7506701619341831, 0.7330313164077971, 0.750596954531864, 0.7683218403471856, 0.44199480707232475, 0.6631460184739283, 0.37719940170021804, 0.7656321731295832, 0.6876929035318478, 0.7642286772203081, 0.7775964843174409, 0.7708715069321304, 0.7503738817066775, 0.7483558725783309, 0.7612478473353603, 0.7700055485707991, 0.5190035886390065, 0.6645464797474336, 0.7354353887158952, 0.712712223794995, 0.7495928341762275, 0.4265500510508674, 0.699050595917069, 0.6969204938435535, 0.7697978042891798, 0.7601023601729353]}, {\"categories\": [\"0\", \"2\", \"6\", \"8\", \"12\", \"15\", \"16\", \"18\", \"22\", \"24\", \"25\", \"26\", \"27\", \"28\", \"29\", \"30\", \"31\", \"32\", \"33\", \"34\", \"35\", \"36\", \"37\", \"38\", \"39\", \"40\", \"41\", \"42\", \"43\", \"44\", \"45\", \"46\", \"47\", \"48\", \"52\"], \"mode\": \"lines\", \"name\": \"precision_score_weighted_max\", \"stepped\": true, \"type\": \"scatter\", \"data\": [0.7443216189800509, 0.7443216189800509, 0.7460012086537702, 0.7460012086537702, 0.7696244720654124, 0.7696244720654124, 0.7696244720654124, 0.7696244720654124, 0.7696244720654124, 0.7696244720654124, 0.7696244720654124, 0.7696244720654124, 0.7696244720654124, 0.7696244720654124, 0.7696244720654124, 0.7696244720654124, 0.7696244720654124, 0.7696244720654124, 0.7696244720654124, 0.7775964843174409, 0.7775964843174409, 0.7775964843174409, 0.7775964843174409, 0.7775964843174409, 0.7775964843174409, 0.7775964843174409, 0.7775964843174409, 0.7775964843174409, 0.7775964843174409, 0.7775964843174409, 0.7775964843174409, 0.7775964843174409, 0.7775964843174409, 0.7775964843174409, 0.7775964843174409]}], \"average_precision_score_micro\": [{\"categories\": [\"0\", \"2\", \"6\", \"8\", \"12\", \"15\", \"16\", \"18\", \"22\", \"24\", \"25\", \"26\", \"27\", \"28\", \"29\", \"30\", \"31\", \"32\", \"33\", \"34\", \"35\", \"36\", \"37\", \"38\", \"39\", \"40\", \"41\", \"42\", \"43\", \"44\", \"45\", \"46\", \"47\", \"48\", \"52\"], \"mode\": \"markers\", \"name\": \"average_precision_score_micro\", \"stepped\": false, \"type\": \"scatter\", \"data\": [0.8311608346515413, 0.8016470986094288, 0.8232814083344004, 0.7824195751505846, 0.8395846135214446, 0.7751084059011235, 0.8290778306945054, 0.8426834117252936, 0.776309466504172, 0.8365691502035932, 0.8056162795061257, 0.822855439590939, 0.8269908975839282, 0.7444451814070027, 0.7436604358576071, 0.5763038919811789, 0.822161608448768, 0.7571660235426456, 0.8272980794298812, 0.8340450837124461, 0.8401254983459145, 0.8472146022535882, 0.8239365770449604, 0.8389454101379888, 0.8518062325015399, 0.5473080086402989, 0.7481729864321469, 0.8182175411266949, 0.7569188031048489, 0.8253067459544194, 0.7057665592090298, 0.778196713192335, 0.7735950564736908, 0.8263036775006751, 0.8512419859669121]}, {\"categories\": [\"0\", \"2\", \"6\", \"8\", \"12\", \"15\", \"16\", \"18\", \"22\", \"24\", \"25\", \"26\", \"27\", \"28\", \"29\", \"30\", \"31\", \"32\", \"33\", \"34\", \"35\", \"36\", \"37\", \"38\", \"39\", \"40\", \"41\", \"42\", \"43\", \"44\", \"45\", \"46\", \"47\", \"48\", \"52\"], \"mode\": \"lines\", \"name\": \"average_precision_score_micro_max\", \"stepped\": true, \"type\": \"scatter\", \"data\": [0.8311608346515413, 0.8311608346515413, 0.8311608346515413, 0.8311608346515413, 0.8395846135214446, 0.8395846135214446, 0.8395846135214446, 0.8426834117252936, 0.8426834117252936, 0.8426834117252936, 0.8426834117252936, 0.8426834117252936, 0.8426834117252936, 0.8426834117252936, 0.8426834117252936, 0.8426834117252936, 0.8426834117252936, 0.8426834117252936, 0.8426834117252936, 0.8426834117252936, 0.8426834117252936, 0.8472146022535882, 0.8472146022535882, 0.8472146022535882, 0.8518062325015399, 0.8518062325015399, 0.8518062325015399, 0.8518062325015399, 0.8518062325015399, 0.8518062325015399, 0.8518062325015399, 0.8518062325015399, 0.8518062325015399, 0.8518062325015399, 0.8518062325015399]}], \"average_precision_score_weighted\": [{\"categories\": [\"0\", \"2\", \"6\", \"8\", \"12\", \"15\", \"16\", \"18\", \"22\", \"24\", \"25\", \"26\", \"27\", \"28\", \"29\", \"30\", \"31\", \"32\", \"33\", \"34\", \"35\", \"36\", \"37\", \"38\", \"39\", \"40\", \"41\", \"42\", \"43\", \"44\", \"45\", \"46\", \"47\", \"48\", \"52\"], \"mode\": \"markers\", \"name\": \"average_precision_score_weighted\", \"stepped\": false, \"type\": \"scatter\", \"data\": [0.8159197901628463, 0.8099237902967864, 0.8072172232353187, 0.7872082630193213, 0.8332214141922638, 0.772278998864135, 0.8208720393606379, 0.8280276012533921, 0.7579547769891386, 0.8251125330969955, 0.8081533215860988, 0.8456014375147097, 0.8389227189792198, 0.7215308026685754, 0.7242729510109874, 0.5508167645242796, 0.8294415483995154, 0.7414531454121065, 0.8383269293179023, 0.826192137398112, 0.8342461297272081, 0.8349336482834685, 0.8269292416032942, 0.8296331017203306, 0.8396309756349389, 0.4763843884774948, 0.727060939059271, 0.823387736651331, 0.747500781170897, 0.8297679635060385, 0.6622728430880487, 0.7645768177885232, 0.7554786127092485, 0.8394768974092145, 0.8402648091708663]}, {\"categories\": [\"0\", \"2\", \"6\", \"8\", \"12\", \"15\", \"16\", \"18\", \"22\", \"24\", \"25\", \"26\", \"27\", \"28\", \"29\", \"30\", \"31\", \"32\", \"33\", \"34\", \"35\", \"36\", \"37\", \"38\", \"39\", \"40\", \"41\", \"42\", \"43\", \"44\", \"45\", \"46\", \"47\", \"48\", \"52\"], \"mode\": \"lines\", \"name\": \"average_precision_score_weighted_max\", \"stepped\": true, \"type\": \"scatter\", \"data\": [0.8159197901628463, 0.8159197901628463, 0.8159197901628463, 0.8159197901628463, 0.8332214141922638, 0.8332214141922638, 0.8332214141922638, 0.8332214141922638, 0.8332214141922638, 0.8332214141922638, 0.8332214141922638, 0.8456014375147097, 0.8456014375147097, 0.8456014375147097, 0.8456014375147097, 0.8456014375147097, 0.8456014375147097, 0.8456014375147097, 0.8456014375147097, 0.8456014375147097, 0.8456014375147097, 0.8456014375147097, 0.8456014375147097, 0.8456014375147097, 0.8456014375147097, 0.8456014375147097, 0.8456014375147097, 0.8456014375147097, 0.8456014375147097, 0.8456014375147097, 0.8456014375147097, 0.8456014375147097, 0.8456014375147097, 0.8456014375147097, 0.8456014375147097]}], \"balanced_accuracy\": [{\"categories\": [\"0\", \"2\", \"6\", \"8\", \"12\", \"15\", \"16\", \"18\", \"22\", \"24\", \"25\", \"26\", \"27\", \"28\", \"29\", \"30\", \"31\", \"32\", \"33\", \"34\", \"35\", \"36\", \"37\", \"38\", \"39\", \"40\", \"41\", \"42\", \"43\", \"44\", \"45\", \"46\", \"47\", \"48\", \"52\"], \"mode\": \"markers\", \"name\": \"balanced_accuracy\", \"stepped\": false, \"type\": \"scatter\", \"data\": [0.7113838058691895, 0.7064777642935436, 0.6999328057382129, 0.5, 0.7195815011273605, 0.6754466355818796, 0.7193049961392621, 0.7298548001175094, 0.6392736957894644, 0.6864101669172149, 0.6100765354854204, 0.5969009106574259, 0.6533696843969556, 0.5018077803203662, 0.6193881695152987, 0.5, 0.7434364337326957, 0.6424894430924954, 0.6481265549979112, 0.7228535463569076, 0.721305639058395, 0.7074889717819275, 0.6540049465142995, 0.70445174186469, 0.7346730336655846, 0.5019510062369459, 0.5914534315271499, 0.6247415104482386, 0.5189536878550476, 0.6422346895718701, 0.5, 0.6518238075920533, 0.6456870812884533, 0.6411950528529269, 0.7103731350499266]}, {\"categories\": [\"0\", \"2\", \"6\", \"8\", \"12\", \"15\", \"16\", \"18\", \"22\", \"24\", \"25\", \"26\", \"27\", \"28\", \"29\", \"30\", \"31\", \"32\", \"33\", \"34\", \"35\", \"36\", \"37\", \"38\", \"39\", \"40\", \"41\", \"42\", \"43\", \"44\", \"45\", \"46\", \"47\", \"48\", \"52\"], \"mode\": \"lines\", \"name\": \"balanced_accuracy_max\", \"stepped\": true, \"type\": \"scatter\", \"data\": [0.7113838058691895, 0.7113838058691895, 0.7113838058691895, 0.7113838058691895, 0.7195815011273605, 0.7195815011273605, 0.7195815011273605, 0.7298548001175094, 0.7298548001175094, 0.7298548001175094, 0.7298548001175094, 0.7298548001175094, 0.7298548001175094, 0.7298548001175094, 0.7298548001175094, 0.7298548001175094, 0.7434364337326957, 0.7434364337326957, 0.7434364337326957, 0.7434364337326957, 0.7434364337326957, 0.7434364337326957, 0.7434364337326957, 0.7434364337326957, 0.7434364337326957, 0.7434364337326957, 0.7434364337326957, 0.7434364337326957, 0.7434364337326957, 0.7434364337326957, 0.7434364337326957, 0.7434364337326957, 0.7434364337326957, 0.7434364337326957, 0.7434364337326957]}], \"AUC_micro\": [{\"categories\": [\"0\", \"2\", \"6\", \"8\", \"12\", \"15\", \"16\", \"18\", \"22\", \"24\", \"25\", \"26\", \"27\", \"28\", \"29\", \"30\", \"31\", \"32\", \"33\", \"34\", \"35\", \"36\", \"37\", \"38\", \"39\", \"40\", \"41\", \"42\", \"43\", \"44\", \"45\", \"46\", \"47\", \"48\", \"52\"], \"mode\": \"markers\", \"name\": \"AUC_micro\", \"stepped\": false, \"type\": \"scatter\", \"data\": [0.8305842991151339, 0.7976778871220069, 0.8225679097509111, 0.7710614514625959, 0.8461247514184198, 0.7708896093773039, 0.836351478598966, 0.8442435556480105, 0.7797094966472877, 0.8352223245840585, 0.7987773167928653, 0.8132281533942732, 0.8202034821022524, 0.7386890902132293, 0.7483530638348715, 0.6017910194380782, 0.8212807105593096, 0.7601244077097519, 0.8225017708338308, 0.8404499220239419, 0.8461018851805113, 0.846289072534972, 0.8183998992564131, 0.8392996983449207, 0.8514698045083462, 0.5853462903373776, 0.7484834045971869, 0.8100975289916107, 0.7506450769868437, 0.8180059200258724, 0.7131280388062244, 0.790915819324723, 0.7736074249285952, 0.8195732917845293, 0.8511903221829973]}, {\"categories\": [\"0\", \"2\", \"6\", \"8\", \"12\", \"15\", \"16\", \"18\", \"22\", \"24\", \"25\", \"26\", \"27\", \"28\", \"29\", \"30\", \"31\", \"32\", \"33\", \"34\", \"35\", \"36\", \"37\", \"38\", \"39\", \"40\", \"41\", \"42\", \"43\", \"44\", \"45\", \"46\", \"47\", \"48\", \"52\"], \"mode\": \"lines\", \"name\": \"AUC_micro_max\", \"stepped\": true, \"type\": \"scatter\", \"data\": [0.8305842991151339, 0.8305842991151339, 0.8305842991151339, 0.8305842991151339, 0.8461247514184198, 0.8461247514184198, 0.8461247514184198, 0.8461247514184198, 0.8461247514184198, 0.8461247514184198, 0.8461247514184198, 0.8461247514184198, 0.8461247514184198, 0.8461247514184198, 0.8461247514184198, 0.8461247514184198, 0.8461247514184198, 0.8461247514184198, 0.8461247514184198, 0.8461247514184198, 0.8461247514184198, 0.846289072534972, 0.846289072534972, 0.846289072534972, 0.8514698045083462, 0.8514698045083462, 0.8514698045083462, 0.8514698045083462, 0.8514698045083462, 0.8514698045083462, 0.8514698045083462, 0.8514698045083462, 0.8514698045083462, 0.8514698045083462, 0.8514698045083462]}], \"average_precision_score_macro\": [{\"categories\": [\"0\", \"2\", \"6\", \"8\", \"12\", \"15\", \"16\", \"18\", \"22\", \"24\", \"25\", \"26\", \"27\", \"28\", \"29\", \"30\", \"31\", \"32\", \"33\", \"34\", \"35\", \"36\", \"37\", \"38\", \"39\", \"40\", \"41\", \"42\", \"43\", \"44\", \"45\", \"46\", \"47\", \"48\", \"52\"], \"mode\": \"markers\", \"name\": \"average_precision_score_macro\", \"stepped\": false, \"type\": \"scatter\", \"data\": [0.7826874243830495, 0.7745400045619603, 0.7720263439709928, 0.7485944674387041, 0.8048931048525725, 0.7316165576053957, 0.7933872490560401, 0.7969640997619127, 0.7171231665037621, 0.7912829364403949, 0.7723386744165548, 0.8152541939386614, 0.8070543300026809, 0.6721471785321226, 0.6837947720018948, 0.5, 0.7947020952115901, 0.7015633330397921, 0.8076140049718162, 0.7986494201835148, 0.80617550509815, 0.8040666732162152, 0.7951458724681114, 0.7983768662330066, 0.8077786634666287, 0.4347714734960456, 0.6815530748768982, 0.7897289613828432, 0.7047491839411885, 0.796363792502766, 0.6107574793746242, 0.7326762183445402, 0.715759234826652, 0.8081698653031198, 0.8096061878152666]}, {\"categories\": [\"0\", \"2\", \"6\", \"8\", \"12\", \"15\", \"16\", \"18\", \"22\", \"24\", \"25\", \"26\", \"27\", \"28\", \"29\", \"30\", \"31\", \"32\", \"33\", \"34\", \"35\", \"36\", \"37\", \"38\", \"39\", \"40\", \"41\", \"42\", \"43\", \"44\", \"45\", \"46\", \"47\", \"48\", \"52\"], \"mode\": \"lines\", \"name\": \"average_precision_score_macro_max\", \"stepped\": true, \"type\": \"scatter\", \"data\": [0.7826874243830495, 0.7826874243830495, 0.7826874243830495, 0.7826874243830495, 0.8048931048525725, 0.8048931048525725, 0.8048931048525725, 0.8048931048525725, 0.8048931048525725, 0.8048931048525725, 0.8048931048525725, 0.8152541939386614, 0.8152541939386614, 0.8152541939386614, 0.8152541939386614, 0.8152541939386614, 0.8152541939386614, 0.8152541939386614, 0.8152541939386614, 0.8152541939386614, 0.8152541939386614, 0.8152541939386614, 0.8152541939386614, 0.8152541939386614, 0.8152541939386614, 0.8152541939386614, 0.8152541939386614, 0.8152541939386614, 0.8152541939386614, 0.8152541939386614, 0.8152541939386614, 0.8152541939386614, 0.8152541939386614, 0.8152541939386614, 0.8152541939386614]}], \"log_loss\": [{\"categories\": [\"0\", \"2\", \"6\", \"8\", \"12\", \"15\", \"16\", \"18\", \"22\", \"24\", \"25\", \"26\", \"27\", \"28\", \"29\", \"30\", \"31\", \"32\", \"33\", \"34\", \"35\", \"36\", \"37\", \"38\", \"39\", \"40\", \"41\", \"42\", \"43\", \"44\", \"45\", \"46\", \"47\", \"48\", \"52\"], \"mode\": \"markers\", \"name\": \"log_loss\", \"stepped\": false, \"type\": \"scatter\", \"data\": [0.6332711438725427, 0.5925895358276824, 0.5211417651578135, 0.6126329104569104, 0.49044762177091006, 0.574407940466366, 0.49883882718140776, 0.4882903228443872, 0.5629666620423853, 0.5095838602326039, 0.5573042461264319, 0.5563805085942375, 0.5438910104693659, 0.6100138661589112, 0.7217102516633036, 0.6867309455131883, 0.5801087407171975, 0.7388472691813119, 0.5397518150412607, 0.4961851343434584, 0.48928415350319077, 0.48735885096729065, 0.5342335912171816, 0.5091334007966117, 0.4779174781065746, 0.6728767441920855, 0.5882074195766214, 0.5434903953770925, 0.6016156348936365, 0.5387704881445096, 0.649620842621893, 0.5613279075026213, 0.6495119227280747, 0.546011799635956, 0.4899715301592658]}, {\"categories\": [\"0\", \"2\", \"6\", \"8\", \"12\", \"15\", \"16\", \"18\", \"22\", \"24\", \"25\", \"26\", \"27\", \"28\", \"29\", \"30\", \"31\", \"32\", \"33\", \"34\", \"35\", \"36\", \"37\", \"38\", \"39\", \"40\", \"41\", \"42\", \"43\", \"44\", \"45\", \"46\", \"47\", \"48\", \"52\"], \"mode\": \"lines\", \"name\": \"log_loss_min\", \"stepped\": true, \"type\": \"scatter\", \"data\": [0.6332711438725427, 0.5925895358276824, 0.5211417651578135, 0.5211417651578135, 0.49044762177091006, 0.49044762177091006, 0.49044762177091006, 0.4882903228443872, 0.4882903228443872, 0.4882903228443872, 0.4882903228443872, 0.4882903228443872, 0.4882903228443872, 0.4882903228443872, 0.4882903228443872, 0.4882903228443872, 0.4882903228443872, 0.4882903228443872, 0.4882903228443872, 0.4882903228443872, 0.4882903228443872, 0.48735885096729065, 0.48735885096729065, 0.48735885096729065, 0.4779174781065746, 0.4779174781065746, 0.4779174781065746, 0.4779174781065746, 0.4779174781065746, 0.4779174781065746, 0.4779174781065746, 0.4779174781065746, 0.4779174781065746, 0.4779174781065746, 0.4779174781065746]}], \"f1_score_micro\": [{\"categories\": [\"0\", \"2\", \"6\", \"8\", \"12\", \"15\", \"16\", \"18\", \"22\", \"24\", \"25\", \"26\", \"27\", \"28\", \"29\", \"30\", \"31\", \"32\", \"33\", \"34\", \"35\", \"36\", \"37\", \"38\", \"39\", \"40\", \"41\", \"42\", \"43\", \"44\", \"45\", \"46\", \"47\", \"48\", \"52\"], \"mode\": \"markers\", \"name\": \"f1_score_micro\", \"stepped\": false, \"type\": \"scatter\", \"data\": [0.7461420932009167, 0.710941346235464, 0.7513708513708515, 0.6511416687887276, 0.7695951107715813, 0.6862914862914863, 0.7656735421441303, 0.7656820303879127, 0.7057974705033528, 0.7513538748832866, 0.7123503947033358, 0.7084712672947967, 0.7448349036584331, 0.645912910618793, 0.6719548425430778, 0.6017910194380782, 0.7382819794584501, 0.6940412528647822, 0.7422629657923775, 0.7760631525337407, 0.7708938120702825, 0.7552499787793905, 0.7383413971649265, 0.7644087938205585, 0.7695272048213224, 0.6485357779475427, 0.6732111026228674, 0.7214582802818097, 0.6576606400135813, 0.7344452932688228, 0.6511416687887276, 0.7058314234784823, 0.6993294287411935, 0.7383668618962737, 0.7643493761140819]}, {\"categories\": [\"0\", \"2\", \"6\", \"8\", \"12\", \"15\", \"16\", \"18\", \"22\", \"24\", \"25\", \"26\", \"27\", \"28\", \"29\", \"30\", \"31\", \"32\", \"33\", \"34\", \"35\", \"36\", \"37\", \"38\", \"39\", \"40\", \"41\", \"42\", \"43\", \"44\", \"45\", \"46\", \"47\", \"48\", \"52\"], \"mode\": \"lines\", \"name\": \"f1_score_micro_max\", \"stepped\": true, \"type\": \"scatter\", \"data\": [0.7461420932009167, 0.7461420932009167, 0.7513708513708515, 0.7513708513708515, 0.7695951107715813, 0.7695951107715813, 0.7695951107715813, 0.7695951107715813, 0.7695951107715813, 0.7695951107715813, 0.7695951107715813, 0.7695951107715813, 0.7695951107715813, 0.7695951107715813, 0.7695951107715813, 0.7695951107715813, 0.7695951107715813, 0.7695951107715813, 0.7695951107715813, 0.7760631525337407, 0.7760631525337407, 0.7760631525337407, 0.7760631525337407, 0.7760631525337407, 0.7760631525337407, 0.7760631525337407, 0.7760631525337407, 0.7760631525337407, 0.7760631525337407, 0.7760631525337407, 0.7760631525337407, 0.7760631525337407, 0.7760631525337407, 0.7760631525337407, 0.7760631525337407]}], \"accuracy\": [{\"categories\": [\"0\", \"2\", \"6\", \"8\", \"12\", \"15\", \"16\", \"18\", \"22\", \"24\", \"25\", \"26\", \"27\", \"28\", \"29\", \"30\", \"31\", \"32\", \"33\", \"34\", \"35\", \"36\", \"37\", \"38\", \"39\", \"40\", \"41\", \"42\", \"43\", \"44\", \"45\", \"46\", \"47\", \"48\", \"52\"], \"mode\": \"markers\", \"name\": \"accuracy\", \"stepped\": false, \"type\": \"scatter\", \"data\": [0.7461420932009167, 0.710941346235464, 0.7513708513708514, 0.6511416687887276, 0.7695951107715814, 0.6862914862914863, 0.7656735421441303, 0.7656820303879128, 0.7057974705033528, 0.7513538748832866, 0.7123503947033358, 0.7084712672947967, 0.7448349036584331, 0.645912910618793, 0.6719548425430778, 0.6017910194380783, 0.7382819794584501, 0.6940412528647822, 0.7422629657923775, 0.7760631525337407, 0.7708938120702825, 0.7552499787793906, 0.7383413971649265, 0.7644087938205585, 0.7695272048213224, 0.6485357779475427, 0.6732111026228674, 0.7214582802818097, 0.6576606400135812, 0.7344452932688228, 0.6511416687887276, 0.7058314234784823, 0.6993294287411935, 0.7383668618962738, 0.7643493761140819]}, {\"categories\": [\"0\", \"2\", \"6\", \"8\", \"12\", \"15\", \"16\", \"18\", \"22\", \"24\", \"25\", \"26\", \"27\", \"28\", \"29\", \"30\", \"31\", \"32\", \"33\", \"34\", \"35\", \"36\", \"37\", \"38\", \"39\", \"40\", \"41\", \"42\", \"43\", \"44\", \"45\", \"46\", \"47\", \"48\", \"52\"], \"mode\": \"lines\", \"name\": \"accuracy_max\", \"stepped\": true, \"type\": \"scatter\", \"data\": [0.7461420932009167, 0.7461420932009167, 0.7513708513708514, 0.7513708513708514, 0.7695951107715814, 0.7695951107715814, 0.7695951107715814, 0.7695951107715814, 0.7695951107715814, 0.7695951107715814, 0.7695951107715814, 0.7695951107715814, 0.7695951107715814, 0.7695951107715814, 0.7695951107715814, 0.7695951107715814, 0.7695951107715814, 0.7695951107715814, 0.7695951107715814, 0.7760631525337407, 0.7760631525337407, 0.7760631525337407, 0.7760631525337407, 0.7760631525337407, 0.7760631525337407, 0.7760631525337407, 0.7760631525337407, 0.7760631525337407, 0.7760631525337407, 0.7760631525337407, 0.7760631525337407, 0.7760631525337407, 0.7760631525337407, 0.7760631525337407, 0.7760631525337407]}], \"recall_score_micro\": [{\"categories\": [\"0\", \"2\", \"6\", \"8\", \"12\", \"15\", \"16\", \"18\", \"22\", \"24\", \"25\", \"26\", \"27\", \"28\", \"29\", \"30\", \"31\", \"32\", \"33\", \"34\", \"35\", \"36\", \"37\", \"38\", \"39\", \"40\", \"41\", \"42\", \"43\", \"44\", \"45\", \"46\", \"47\", \"48\", \"52\"], \"mode\": \"markers\", \"name\": \"recall_score_micro\", \"stepped\": false, \"type\": \"scatter\", \"data\": [0.7461420932009167, 0.710941346235464, 0.7513708513708514, 0.6511416687887276, 0.7695951107715814, 0.6862914862914863, 0.7656735421441303, 0.7656820303879128, 0.7057974705033528, 0.7513538748832866, 0.7123503947033358, 0.7084712672947967, 0.7448349036584331, 0.645912910618793, 0.6719548425430778, 0.6017910194380783, 0.7382819794584501, 0.6940412528647822, 0.7422629657923775, 0.7760631525337407, 0.7708938120702825, 0.7552499787793906, 0.7383413971649265, 0.7644087938205585, 0.7695272048213224, 0.6485357779475427, 0.6732111026228674, 0.7214582802818097, 0.6576606400135812, 0.7344452932688228, 0.6511416687887276, 0.7058314234784823, 0.6993294287411935, 0.7383668618962738, 0.7643493761140819]}, {\"categories\": [\"0\", \"2\", \"6\", \"8\", \"12\", \"15\", \"16\", \"18\", \"22\", \"24\", \"25\", \"26\", \"27\", \"28\", \"29\", \"30\", \"31\", \"32\", \"33\", \"34\", \"35\", \"36\", \"37\", \"38\", \"39\", \"40\", \"41\", \"42\", \"43\", \"44\", \"45\", \"46\", \"47\", \"48\", \"52\"], \"mode\": \"lines\", \"name\": \"recall_score_micro_max\", \"stepped\": true, \"type\": \"scatter\", \"data\": [0.7461420932009167, 0.7461420932009167, 0.7513708513708514, 0.7513708513708514, 0.7695951107715814, 0.7695951107715814, 0.7695951107715814, 0.7695951107715814, 0.7695951107715814, 0.7695951107715814, 0.7695951107715814, 0.7695951107715814, 0.7695951107715814, 0.7695951107715814, 0.7695951107715814, 0.7695951107715814, 0.7695951107715814, 0.7695951107715814, 0.7695951107715814, 0.7760631525337407, 0.7760631525337407, 0.7760631525337407, 0.7760631525337407, 0.7760631525337407, 0.7760631525337407, 0.7760631525337407, 0.7760631525337407, 0.7760631525337407, 0.7760631525337407, 0.7760631525337407, 0.7760631525337407, 0.7760631525337407, 0.7760631525337407, 0.7760631525337407, 0.7760631525337407]}], \"norm_macro_recall\": [{\"categories\": [\"0\", \"2\", \"6\", \"8\", \"12\", \"15\", \"16\", \"18\", \"22\", \"24\", \"25\", \"26\", \"27\", \"28\", \"29\", \"30\", \"31\", \"32\", \"33\", \"34\", \"35\", \"36\", \"37\", \"38\", \"39\", \"40\", \"41\", \"42\", \"43\", \"44\", \"45\", \"46\", \"47\", \"48\", \"52\"], \"mode\": \"markers\", \"name\": \"norm_macro_recall\", \"stepped\": false, \"type\": \"scatter\", \"data\": [0.42276761173837885, 0.41295552858708734, 0.399865611476426, 0.0, 0.43916300225472116, 0.3508932711637591, 0.4386099922785244, 0.45970960023501883, 0.2785473915789288, 0.37282033383443003, 0.22015307097084094, 0.19380182131485188, 0.3067393687939114, 0.0036155606407322514, 0.23877633903059756, 0.0, 0.4868728674653916, 0.28497888618499106, 0.2962531099958222, 0.44570709271381526, 0.44261127811679, 0.414977943563855, 0.30800989302859905, 0.40890348372938, 0.469346067331169, 0.012129724611378512, 0.18290686305429998, 0.24948302089647706, 0.038417579791727705, 0.2844693791437402, 0.0, 0.3036476151841064, 0.2913741625769067, 0.28239010570585377, 0.42074627009985327]}, {\"categories\": [\"0\", \"2\", \"6\", \"8\", \"12\", \"15\", \"16\", \"18\", \"22\", \"24\", \"25\", \"26\", \"27\", \"28\", \"29\", \"30\", \"31\", \"32\", \"33\", \"34\", \"35\", \"36\", \"37\", \"38\", \"39\", \"40\", \"41\", \"42\", \"43\", \"44\", \"45\", \"46\", \"47\", \"48\", \"52\"], \"mode\": \"lines\", \"name\": \"norm_macro_recall_max\", \"stepped\": true, \"type\": \"scatter\", \"data\": [0.42276761173837885, 0.42276761173837885, 0.42276761173837885, 0.42276761173837885, 0.43916300225472116, 0.43916300225472116, 0.43916300225472116, 0.45970960023501883, 0.45970960023501883, 0.45970960023501883, 0.45970960023501883, 0.45970960023501883, 0.45970960023501883, 0.45970960023501883, 0.45970960023501883, 0.45970960023501883, 0.4868728674653916, 0.4868728674653916, 0.4868728674653916, 0.4868728674653916, 0.4868728674653916, 0.4868728674653916, 0.4868728674653916, 0.4868728674653916, 0.4868728674653916, 0.4868728674653916, 0.4868728674653916, 0.4868728674653916, 0.4868728674653916, 0.4868728674653916, 0.4868728674653916, 0.4868728674653916, 0.4868728674653916, 0.4868728674653916, 0.4868728674653916]}], \"recall_score_weighted\": [{\"categories\": [\"0\", \"2\", \"6\", \"8\", \"12\", \"15\", \"16\", \"18\", \"22\", \"24\", \"25\", \"26\", \"27\", \"28\", \"29\", \"30\", \"31\", \"32\", \"33\", \"34\", \"35\", \"36\", \"37\", \"38\", \"39\", \"40\", \"41\", \"42\", \"43\", \"44\", \"45\", \"46\", \"47\", \"48\", \"52\"], \"mode\": \"markers\", \"name\": \"recall_score_weighted\", \"stepped\": false, \"type\": \"scatter\", \"data\": [0.7461420932009167, 0.710941346235464, 0.7513708513708514, 0.6511416687887276, 0.7695951107715814, 0.6862914862914863, 0.7656735421441303, 0.7656820303879128, 0.7057974705033528, 0.7513538748832866, 0.7123503947033358, 0.7084712672947967, 0.7448349036584331, 0.645912910618793, 0.6719548425430778, 0.6017910194380783, 0.7382819794584501, 0.6940412528647822, 0.7422629657923775, 0.7760631525337407, 0.7708938120702825, 0.7552499787793906, 0.7383413971649265, 0.7644087938205585, 0.7695272048213224, 0.6485357779475427, 0.6732111026228674, 0.7214582802818097, 0.6576606400135812, 0.7344452932688228, 0.6511416687887276, 0.7058314234784823, 0.6993294287411935, 0.7383668618962738, 0.7643493761140819]}, {\"categories\": [\"0\", \"2\", \"6\", \"8\", \"12\", \"15\", \"16\", \"18\", \"22\", \"24\", \"25\", \"26\", \"27\", \"28\", \"29\", \"30\", \"31\", \"32\", \"33\", \"34\", \"35\", \"36\", \"37\", \"38\", \"39\", \"40\", \"41\", \"42\", \"43\", \"44\", \"45\", \"46\", \"47\", \"48\", \"52\"], \"mode\": \"lines\", \"name\": \"recall_score_weighted_max\", \"stepped\": true, \"type\": \"scatter\", \"data\": [0.7461420932009167, 0.7461420932009167, 0.7513708513708514, 0.7513708513708514, 0.7695951107715814, 0.7695951107715814, 0.7695951107715814, 0.7695951107715814, 0.7695951107715814, 0.7695951107715814, 0.7695951107715814, 0.7695951107715814, 0.7695951107715814, 0.7695951107715814, 0.7695951107715814, 0.7695951107715814, 0.7695951107715814, 0.7695951107715814, 0.7695951107715814, 0.7760631525337407, 0.7760631525337407, 0.7760631525337407, 0.7760631525337407, 0.7760631525337407, 0.7760631525337407, 0.7760631525337407, 0.7760631525337407, 0.7760631525337407, 0.7760631525337407, 0.7760631525337407, 0.7760631525337407, 0.7760631525337407, 0.7760631525337407, 0.7760631525337407, 0.7760631525337407]}], \"matthews_correlation\": [{\"categories\": [\"0\", \"2\", \"6\", \"8\", \"12\", \"15\", \"16\", \"18\", \"22\", \"24\", \"25\", \"26\", \"27\", \"28\", \"29\", \"30\", \"31\", \"32\", \"33\", \"34\", \"35\", \"36\", \"37\", \"38\", \"39\", \"40\", \"41\", \"42\", \"43\", \"44\", \"45\", \"46\", \"47\", \"48\", \"52\"], \"mode\": \"markers\", \"name\": \"matthews_correlation\", \"stepped\": false, \"type\": \"scatter\", \"data\": [0.42897685019524284, 0.39718861589471166, 0.42838804387533347, 0.0, 0.4720759687480867, 0.33965970444646487, 0.4659061082227078, 0.4698315587728546, 0.3121551050273773, 0.4211808619818947, 0.3207888204101332, 0.3167861958488098, 0.41018599747748075, 0.006320455089150218, 0.24968489692443457, 0.0, 0.4654965560330842, 0.29864646945839335, 0.4006373658834084, 0.48551753750095294, 0.47502303298834575, 0.43808175124626836, 0.3882423387007852, 0.45406566107624957, 0.4801048807731999, 0.007777923315828378, 0.2231851716787394, 0.34415869716045594, 0.11235233064783474, 0.3783373499487671, 0.0, 0.32352335005233923, 0.31365783394159225, 0.3980119334945777, 0.452901473551388]}, {\"categories\": [\"0\", \"2\", \"6\", \"8\", \"12\", \"15\", \"16\", \"18\", \"22\", \"24\", \"25\", \"26\", \"27\", \"28\", \"29\", \"30\", \"31\", \"32\", \"33\", \"34\", \"35\", \"36\", \"37\", \"38\", \"39\", \"40\", \"41\", \"42\", \"43\", \"44\", \"45\", \"46\", \"47\", \"48\", \"52\"], \"mode\": \"lines\", \"name\": \"matthews_correlation_max\", \"stepped\": true, \"type\": \"scatter\", \"data\": [0.42897685019524284, 0.42897685019524284, 0.42897685019524284, 0.42897685019524284, 0.4720759687480867, 0.4720759687480867, 0.4720759687480867, 0.4720759687480867, 0.4720759687480867, 0.4720759687480867, 0.4720759687480867, 0.4720759687480867, 0.4720759687480867, 0.4720759687480867, 0.4720759687480867, 0.4720759687480867, 0.4720759687480867, 0.4720759687480867, 0.4720759687480867, 0.48551753750095294, 0.48551753750095294, 0.48551753750095294, 0.48551753750095294, 0.48551753750095294, 0.48551753750095294, 0.48551753750095294, 0.48551753750095294, 0.48551753750095294, 0.48551753750095294, 0.48551753750095294, 0.48551753750095294, 0.48551753750095294, 0.48551753750095294, 0.48551753750095294, 0.48551753750095294]}], \"f1_score_macro\": [{\"categories\": [\"0\", \"2\", \"6\", \"8\", \"12\", \"15\", \"16\", \"18\", \"22\", \"24\", \"25\", \"26\", \"27\", \"28\", \"29\", \"30\", \"31\", \"32\", \"33\", \"34\", \"35\", \"36\", \"37\", \"38\", \"39\", \"40\", \"41\", \"42\", \"43\", \"44\", \"45\", \"46\", \"47\", \"48\", \"52\"], \"mode\": \"markers\", \"name\": \"f1_score_macro\", \"stepped\": false, \"type\": \"scatter\", \"data\": [0.7131441235902838, 0.6926965085414836, 0.7079270487853011, 0.39381232791863974, 0.7280893658517833, 0.6651935248634553, 0.7258600614936708, 0.7332839306720114, 0.644626092412846, 0.6939212316592821, 0.5991101839375336, 0.5727536353101594, 0.6571904715631374, 0.4042123626288098, 0.6206191960118895, 0.37172930905071516, 0.7239950958768853, 0.6453892527904956, 0.649602258394691, 0.7322905549853269, 0.7297768568557624, 0.7135551940394304, 0.6586507008655551, 0.7158420002425191, 0.7372118358164534, 0.4069500329758272, 0.5845883960000471, 0.6210821434387601, 0.4364446646366161, 0.6437967004169367, 0.39381232791863974, 0.6555469363474624, 0.6465407859525394, 0.6404191890892026, 0.719148857931572]}, {\"categories\": [\"0\", \"2\", \"6\", \"8\", \"12\", \"15\", \"16\", \"18\", \"22\", \"24\", \"25\", \"26\", \"27\", \"28\", \"29\", \"30\", \"31\", \"32\", \"33\", \"34\", \"35\", \"36\", \"37\", \"38\", \"39\", \"40\", \"41\", \"42\", \"43\", \"44\", \"45\", \"46\", \"47\", \"48\", \"52\"], \"mode\": \"lines\", \"name\": \"f1_score_macro_max\", \"stepped\": true, \"type\": \"scatter\", \"data\": [0.7131441235902838, 0.7131441235902838, 0.7131441235902838, 0.7131441235902838, 0.7280893658517833, 0.7280893658517833, 0.7280893658517833, 0.7332839306720114, 0.7332839306720114, 0.7332839306720114, 0.7332839306720114, 0.7332839306720114, 0.7332839306720114, 0.7332839306720114, 0.7332839306720114, 0.7332839306720114, 0.7332839306720114, 0.7332839306720114, 0.7332839306720114, 0.7332839306720114, 0.7332839306720114, 0.7332839306720114, 0.7332839306720114, 0.7332839306720114, 0.7372118358164534, 0.7372118358164534, 0.7372118358164534, 0.7372118358164534, 0.7372118358164534, 0.7372118358164534, 0.7372118358164534, 0.7372118358164534, 0.7372118358164534, 0.7372118358164534, 0.7372118358164534]}], \"AUC_weighted\": [{\"categories\": [\"0\", \"2\", \"6\", \"8\", \"12\", \"15\", \"16\", \"18\", \"22\", \"24\", \"25\", \"26\", \"27\", \"28\", \"29\", \"30\", \"31\", \"32\", \"33\", \"34\", \"35\", \"36\", \"37\", \"38\", \"39\", \"40\", \"41\", \"42\", \"43\", \"44\", \"45\", \"46\", \"47\", \"48\", \"52\"], \"mode\": \"markers\", \"name\": \"AUC_weighted\", \"stepped\": false, \"type\": \"scatter\", \"data\": [0.8044555568955882, 0.7916563051156373, 0.7943780358516352, 0.7648944792594807, 0.8216726383448745, 0.7521302168779282, 0.8073540979919335, 0.8225417011212661, 0.7460221803806013, 0.8210672852717591, 0.7911907008155195, 0.8397917858718195, 0.8259553300069566, 0.6949432482968166, 0.7033173458964785, 0.5, 0.8224205659317733, 0.7179977952420433, 0.8283736352114703, 0.8128624511203405, 0.8211598752235529, 0.827029181361816, 0.8110730158920028, 0.8235311461168102, 0.8325945358021054, 0.35818803560716034, 0.7026959091657289, 0.8061783879458349, 0.7193947728580055, 0.8163796928602718, 0.6383589184852685, 0.7511838278703383, 0.7361300462762752, 0.830534274062907, 0.8302157927811834]}, {\"categories\": [\"0\", \"2\", \"6\", \"8\", \"12\", \"15\", \"16\", \"18\", \"22\", \"24\", \"25\", \"26\", \"27\", \"28\", \"29\", \"30\", \"31\", \"32\", \"33\", \"34\", \"35\", \"36\", \"37\", \"38\", \"39\", \"40\", \"41\", \"42\", \"43\", \"44\", \"45\", \"46\", \"47\", \"48\", \"52\"], \"mode\": \"lines\", \"name\": \"AUC_weighted_max\", \"stepped\": true, \"type\": \"scatter\", \"data\": [0.8044555568955882, 0.8044555568955882, 0.8044555568955882, 0.8044555568955882, 0.8216726383448745, 0.8216726383448745, 0.8216726383448745, 0.8225417011212661, 0.8225417011212661, 0.8225417011212661, 0.8225417011212661, 0.8397917858718195, 0.8397917858718195, 0.8397917858718195, 0.8397917858718195, 0.8397917858718195, 0.8397917858718195, 0.8397917858718195, 0.8397917858718195, 0.8397917858718195, 0.8397917858718195, 0.8397917858718195, 0.8397917858718195, 0.8397917858718195, 0.8397917858718195, 0.8397917858718195, 0.8397917858718195, 0.8397917858718195, 0.8397917858718195, 0.8397917858718195, 0.8397917858718195, 0.8397917858718195, 0.8397917858718195, 0.8397917858718195, 0.8397917858718195]}], \"precision_score_macro\": [{\"categories\": [\"0\", \"2\", \"6\", \"8\", \"12\", \"15\", \"16\", \"18\", \"22\", \"24\", \"25\", \"26\", \"27\", \"28\", \"29\", \"30\", \"31\", \"32\", \"33\", \"34\", \"35\", \"36\", \"37\", \"38\", \"39\", \"40\", \"41\", \"42\", \"43\", \"44\", \"45\", \"46\", \"47\", \"48\", \"52\"], \"mode\": \"markers\", \"name\": \"precision_score_macro\", \"stepped\": false, \"type\": \"scatter\", \"data\": [0.7177702021983517, 0.6912271708414035, 0.7297711357332439, 0.3255708343943638, 0.7542431022889781, 0.6646634918405961, 0.7480422229326633, 0.7401820325133461, 0.6752973046317564, 0.7384364494306943, 0.7352003519833061, 0.7650024417876418, 0.775295609655978, 0.35593191122602885, 0.6307550064363625, 0.30089550971903917, 0.7227666001982677, 0.6566958525843312, 0.7717981394690502, 0.765096230284278, 0.7554232524140823, 0.7314698083888262, 0.7452795202444564, 0.7521703293308051, 0.7458910399486468, 0.45933973942777995, 0.637980971106531, 0.7380689393660401, 0.7229391626377664, 0.7520714031400009, 0.3255708343943638, 0.6726080293875527, 0.669893583314782, 0.7813101194757541, 0.7439671869532984]}, {\"categories\": [\"0\", \"2\", \"6\", \"8\", \"12\", \"15\", \"16\", \"18\", \"22\", \"24\", \"25\", \"26\", \"27\", \"28\", \"29\", \"30\", \"31\", \"32\", \"33\", \"34\", \"35\", \"36\", \"37\", \"38\", \"39\", \"40\", \"41\", \"42\", \"43\", \"44\", \"45\", \"46\", \"47\", \"48\", \"52\"], \"mode\": \"lines\", \"name\": \"precision_score_macro_max\", \"stepped\": true, \"type\": \"scatter\", \"data\": [0.7177702021983517, 0.7177702021983517, 0.7297711357332439, 0.7297711357332439, 0.7542431022889781, 0.7542431022889781, 0.7542431022889781, 0.7542431022889781, 0.7542431022889781, 0.7542431022889781, 0.7542431022889781, 0.7650024417876418, 0.775295609655978, 0.775295609655978, 0.775295609655978, 0.775295609655978, 0.775295609655978, 0.775295609655978, 0.775295609655978, 0.775295609655978, 0.775295609655978, 0.775295609655978, 0.775295609655978, 0.775295609655978, 0.775295609655978, 0.775295609655978, 0.775295609655978, 0.775295609655978, 0.775295609655978, 0.775295609655978, 0.775295609655978, 0.775295609655978, 0.775295609655978, 0.7813101194757541, 0.7813101194757541]}], \"weighted_accuracy\": [{\"categories\": [\"0\", \"2\", \"6\", \"8\", \"12\", \"15\", \"16\", \"18\", \"22\", \"24\", \"25\", \"26\", \"27\", \"28\", \"29\", \"30\", \"31\", \"32\", \"33\", \"34\", \"35\", \"36\", \"37\", \"38\", \"39\", \"40\", \"41\", \"42\", \"43\", \"44\", \"45\", \"46\", \"47\", \"48\", \"52\"], \"mode\": \"markers\", \"name\": \"weighted_accuracy\", \"stepped\": false, \"type\": \"scatter\", \"data\": [0.7727292546542748, 0.7138860155427715, 0.7910119545308276, 0.7698004941684061, 0.8086071962998101, 0.6946419943404454, 0.8024816761828371, 0.7933821414358557, 0.7571728947116183, 0.8029945505463111, 0.7938954185653712, 0.797858850296215, 0.8171009311036025, 0.7603792657274763, 0.7134846440147387, 0.6767639281906638, 0.7335297059253522, 0.7335016753997644, 0.8167141206009619, 0.8179249513901446, 0.8095292948689675, 0.7928895411983709, 0.8051229341744346, 0.8109730702371876, 0.7972205382367541, 0.7638143691549422, 0.7387390248065097, 0.798216619925308, 0.7681418638385586, 0.8073620541379748, 0.7698004941684061, 0.7484928550900426, 0.7430315575175267, 0.815548508666119, 0.8058315969610794]}, {\"categories\": [\"0\", \"2\", \"6\", \"8\", \"12\", \"15\", \"16\", \"18\", \"22\", \"24\", \"25\", \"26\", \"27\", \"28\", \"29\", \"30\", \"31\", \"32\", \"33\", \"34\", \"35\", \"36\", \"37\", \"38\", \"39\", \"40\", \"41\", \"42\", \"43\", \"44\", \"45\", \"46\", \"47\", \"48\", \"52\"], \"mode\": \"lines\", \"name\": \"weighted_accuracy_max\", \"stepped\": true, \"type\": \"scatter\", \"data\": [0.7727292546542748, 0.7727292546542748, 0.7910119545308276, 0.7910119545308276, 0.8086071962998101, 0.8086071962998101, 0.8086071962998101, 0.8086071962998101, 0.8086071962998101, 0.8086071962998101, 0.8086071962998101, 0.8086071962998101, 0.8171009311036025, 0.8171009311036025, 0.8171009311036025, 0.8171009311036025, 0.8171009311036025, 0.8171009311036025, 0.8171009311036025, 0.8179249513901446, 0.8179249513901446, 0.8179249513901446, 0.8179249513901446, 0.8179249513901446, 0.8179249513901446, 0.8179249513901446, 0.8179249513901446, 0.8179249513901446, 0.8179249513901446, 0.8179249513901446, 0.8179249513901446, 0.8179249513901446, 0.8179249513901446, 0.8179249513901446, 0.8179249513901446]}]}, \"metricName\": null, \"primaryMetricName\": \"accuracy\", \"showLegend\": false}, \"run_metrics\": [{\"name\": \"experiment_status\", \"run_id\": \"AutoML_56ac2cae-8af3-4a48-b087-94d371fb4fa5\", \"categories\": [0, 1, 2, 3, 4, 5, 6, 7, 8, 9, 10, 11, 12, 13], \"series\": [{\"data\": [\"DatasetEvaluation\", \"FeaturesGeneration\", \"DatasetFeaturization\", \"DatasetFeaturizationCompleted\", \"DatasetCrossValidationSplit\", \"ModelSelection\", \"BestRunExplainModel\", \"ModelExplanationDataSetSetup\", \"PickSurrogateModel\", \"EngineeredFeatureExplanations\", \"EngineeredFeatureExplanations\", \"RawFeaturesExplanations\", \"RawFeaturesExplanations\", \"BestRunExplainModel\"]}]}, {\"name\": \"experiment_status_description\", \"run_id\": \"AutoML_56ac2cae-8af3-4a48-b087-94d371fb4fa5\", \"categories\": [0, 1, 2, 3, 4, 5, 6, 7, 8, 9, 10, 11, 12, 13], \"series\": [{\"data\": [\"Gathering dataset statistics.\", \"Generating features for the dataset.\", \"Beginning to fit featurizers and featurize the dataset.\", \"Completed fit featurizers and featurizing the dataset.\", \"Generating individually featurized CV splits.\", \"Beginning model selection.\", \"Best run model explanations started\", \"Model explanations data setup completed\", \"Choosing LightGBM as the surrogate model for explanations\", \"Computation of engineered features started\", \"Computation of engineered features completed\", \"Computation of raw features started\", \"Computation of raw features completed\", \"Best run model explanations completed\"]}]}, {\"name\": \"recall_score_micro\", \"run_id\": \"AutoML_56ac2cae-8af3-4a48-b087-94d371fb4fa5\", \"categories\": [0], \"series\": [{\"data\": [0.7774042950513538]}]}, {\"name\": \"average_precision_score_weighted\", \"run_id\": \"AutoML_56ac2cae-8af3-4a48-b087-94d371fb4fa5\", \"categories\": [0], \"series\": [{\"data\": [0.8431609023132856]}]}, {\"name\": \"accuracy\", \"run_id\": \"AutoML_56ac2cae-8af3-4a48-b087-94d371fb4fa5\", \"categories\": [0], \"series\": [{\"data\": [0.7774042950513538]}]}, {\"name\": \"f1_score_macro\", \"run_id\": \"AutoML_56ac2cae-8af3-4a48-b087-94d371fb4fa5\", \"categories\": [0], \"series\": [{\"data\": [0.7351824215944124]}]}, {\"name\": \"balanced_accuracy\", \"run_id\": \"AutoML_56ac2cae-8af3-4a48-b087-94d371fb4fa5\", \"categories\": [0], \"series\": [{\"data\": [0.7252440707123272]}]}, {\"name\": \"average_precision_score_macro\", \"run_id\": \"AutoML_56ac2cae-8af3-4a48-b087-94d371fb4fa5\", \"categories\": [0], \"series\": [{\"data\": [0.8129493501931225]}]}, {\"name\": \"AUC_weighted\", \"run_id\": \"AutoML_56ac2cae-8af3-4a48-b087-94d371fb4fa5\", \"categories\": [0], \"series\": [{\"data\": [0.8296041981000165]}]}, {\"name\": \"weighted_accuracy\", \"run_id\": \"AutoML_56ac2cae-8af3-4a48-b087-94d371fb4fa5\", \"categories\": [0], \"series\": [{\"data\": [0.8176764230624327]}]}, {\"name\": \"recall_score_weighted\", \"run_id\": \"AutoML_56ac2cae-8af3-4a48-b087-94d371fb4fa5\", \"categories\": [0], \"series\": [{\"data\": [0.7774042950513538]}]}, {\"name\": \"AUC_macro\", \"run_id\": \"AutoML_56ac2cae-8af3-4a48-b087-94d371fb4fa5\", \"categories\": [0], \"series\": [{\"data\": [0.8296041981000165]}]}, {\"name\": \"f1_score_micro\", \"run_id\": \"AutoML_56ac2cae-8af3-4a48-b087-94d371fb4fa5\", \"categories\": [0], \"series\": [{\"data\": [0.7774042950513538]}]}, {\"name\": \"precision_score_macro\", \"run_id\": \"AutoML_56ac2cae-8af3-4a48-b087-94d371fb4fa5\", \"categories\": [0], \"series\": [{\"data\": [0.7648508739551768]}]}, {\"name\": \"average_precision_score_micro\", \"run_id\": \"AutoML_56ac2cae-8af3-4a48-b087-94d371fb4fa5\", \"categories\": [0], \"series\": [{\"data\": [0.852558278606535]}]}, {\"name\": \"precision_score_weighted\", \"run_id\": \"AutoML_56ac2cae-8af3-4a48-b087-94d371fb4fa5\", \"categories\": [0], \"series\": [{\"data\": [0.7777308429761643]}]}, {\"name\": \"f1_score_weighted\", \"run_id\": \"AutoML_56ac2cae-8af3-4a48-b087-94d371fb4fa5\", \"categories\": [0], \"series\": [{\"data\": [0.7693348975645783]}]}, {\"name\": \"log_loss\", \"run_id\": \"AutoML_56ac2cae-8af3-4a48-b087-94d371fb4fa5\", \"categories\": [0], \"series\": [{\"data\": [0.47925967996464325]}]}, {\"name\": \"norm_macro_recall\", \"run_id\": \"AutoML_56ac2cae-8af3-4a48-b087-94d371fb4fa5\", \"categories\": [0], \"series\": [{\"data\": [0.4504881414246544]}]}, {\"name\": \"matthews_correlation\", \"run_id\": \"AutoML_56ac2cae-8af3-4a48-b087-94d371fb4fa5\", \"categories\": [0], \"series\": [{\"data\": [0.48799764891415515]}]}, {\"name\": \"recall_score_macro\", \"run_id\": \"AutoML_56ac2cae-8af3-4a48-b087-94d371fb4fa5\", \"categories\": [0], \"series\": [{\"data\": [0.7252440707123272]}]}, {\"name\": \"precision_score_micro\", \"run_id\": \"AutoML_56ac2cae-8af3-4a48-b087-94d371fb4fa5\", \"categories\": [0], \"series\": [{\"data\": [0.7774042950513538]}]}, {\"name\": \"AUC_micro\", \"run_id\": \"AutoML_56ac2cae-8af3-4a48-b087-94d371fb4fa5\", \"categories\": [0], \"series\": [{\"data\": [0.8516521255867261]}]}], \"run_logs\": \"\\nRun is completed.\", \"graph\": {}, \"widget_settings\": {\"childWidgetDisplay\": \"popup\", \"send_telemetry\": false, \"log_level\": \"INFO\", \"sdk_version\": \"1.51.0\"}, \"loading\": false}"
          },
          "metadata": {}
        },
        {
          "output_type": "display_data",
          "data": {
            "text/html": "<table style=\"width:100%\"><tr><th>Experiment</th><th>Id</th><th>Type</th><th>Status</th><th>Details Page</th><th>Docs Page</th></tr><tr><td>my_experiment</td><td>AutoML_56ac2cae-8af3-4a48-b087-94d371fb4fa5</td><td>automl</td><td>NotStarted</td><td><a href=\"https://ml.azure.com/runs/AutoML_56ac2cae-8af3-4a48-b087-94d371fb4fa5?wsid=/subscriptions/f9d5a085-54dc-4215-9ba6-dad5d86e60a0/resourcegroups/aml-quickstarts-239402/workspaces/quick-starts-ws-239402&amp;tid=660b3398-b80e-49d2-bc5b-ac1dc93b5254\" target=\"_blank\" rel=\"noopener\">Link to Azure Machine Learning studio</a></td><td><a href=\"https://docs.microsoft.com/en-us/python/api/overview/azure/ml/intro?view=azure-ml-py\" target=\"_blank\" rel=\"noopener\">Link to Documentation</a></td></tr></table>"
          },
          "metadata": {}
        },
        {
          "output_type": "stream",
          "name": "stdout",
          "text": "\nCurrent status: FeaturesGeneration. Generating features for the dataset.\nCurrent status: DatasetCrossValidationSplit. Generating individually featurized CV splits.\nCurrent status: ModelSelection. Beginning model selection.\n\n********************************************************************************************\nDATA GUARDRAILS: \n\nTYPE:         Class balancing detection\nSTATUS:       PASSED\nDESCRIPTION:  Your inputs were analyzed, and all classes are balanced in your training data.\n              Learn more about imbalanced data: https://aka.ms/AutomatedMLImbalancedData\n\n********************************************************************************************\n\nTYPE:         Missing feature values imputation\nSTATUS:       PASSED\nDESCRIPTION:  No feature missing values were detected in the training data.\n              Learn more about missing value imputation: https://aka.ms/AutomatedMLFeaturization\n\n********************************************************************************************\n\nTYPE:         High cardinality feature detection\nSTATUS:       PASSED\nDESCRIPTION:  Your inputs were analyzed, and no high cardinality features were detected.\n              Learn more about high cardinality feature handling: https://aka.ms/AutomatedMLFeaturization\n\n********************************************************************************************\n\n********************************************************************************************\nITER: The iteration being evaluated.\nPIPELINE: A summary description of the pipeline being evaluated.\nDURATION: Time taken for the current iteration.\nMETRIC: The result of computing score on the fitted pipeline.\nBEST: The best observed score thus far.\n********************************************************************************************\n\n ITER   PIPELINE                                       DURATION            METRIC      BEST\n    0   MaxAbsScaler LightGBM                          0:00:15             0.7461    0.7461\n    1   MaxAbsScaler XGBoostClassifier                 0:00:13             0.7500    0.7500\n    2   MaxAbsScaler ExtremeRandomTrees                0:00:14             0.7109    0.7500\n    3   SparseNormalizer XGBoostClassifier             0:00:14             0.6785    0.7500\n    4   MaxAbsScaler LightGBM                          0:00:12             0.7605    0.7605\n    5   MaxAbsScaler LightGBM                          0:00:15             0.7228    0.7605\n    6   StandardScalerWrapper XGBoostClassifier        0:00:13             0.7514    0.7605\n    7   MaxAbsScaler LogisticRegression                0:00:13             0.7709    0.7709\n    8   StandardScalerWrapper ExtremeRandomTrees       0:00:13             0.6511    0.7709\n    9   StandardScalerWrapper XGBoostClassifier        0:00:12             0.7501    0.7709\n   10   SparseNormalizer LightGBM                      0:00:17             0.6785    0.7709\n   11   StandardScalerWrapper XGBoostClassifier        0:00:13             0.7605    0.7709\n   12   MaxAbsScaler LogisticRegression                0:00:13             0.7696    0.7709\n   15   SparseNormalizer RandomForest                  0:00:17             0.6863    0.7709\n   13   MaxAbsScaler SGD                               0:00:12             0.6810    0.7709\n   16   StandardScalerWrapper LogisticRegression       0:00:13             0.7657    0.7709\n   17   StandardScalerWrapper RandomForest             0:00:13             0.7579    0.7709\n   14   StandardScalerWrapper XGBoostClassifier        0:00:12             0.7683    0.7709\n   18   StandardScalerWrapper XGBoostClassifier        0:00:13             0.7657    0.7709\n   19   TruncatedSVDWrapper RandomForest               0:00:15             0.7148    0.7709\n   20   TruncatedSVDWrapper RandomForest               0:00:39             0.7409    0.7709\n   24   StandardScalerWrapper RandomForest             0:00:35             0.7514    0.7709\n   22   SparseNormalizer XGBoostClassifier             0:02:10             0.7058    0.7709\n   23   StandardScalerWrapper LogisticRegression       0:00:34             0.7709    0.7709\n   21   StandardScalerWrapper XGBoostClassifier        0:02:03             0.7500    0.7709\n   25   MaxAbsScaler LogisticRegression                0:00:34             0.7124    0.7709\n   26   StandardScalerWrapper LightGBM                 0:00:34             0.7085    0.7709\n   27   StandardScalerWrapper LightGBM                 0:00:33             0.7448    0.7709\n   28   SparseNormalizer LightGBM                      0:00:32             0.6459    0.7709\n   29   SparseNormalizer XGBoostClassifier             0:00:34             0.6720    0.7709\n   30   MaxAbsScaler LogisticRegression                0:00:33             0.6018    0.7709\n   31   StandardScalerWrapper RandomForest             0:00:35             0.7383    0.7709\n   32   SparseNormalizer XGBoostClassifier             0:00:32             0.6940    0.7709\n   33   StandardScalerWrapper LightGBM                 0:00:33             0.7423    0.7709\n"
        }
      ],
      "execution_count": 7,
      "metadata": {
        "gather": {
          "logged": 1690638511516
        },
        "jupyter": {
          "outputs_hidden": false,
          "source_hidden": false
        },
        "nteract": {
          "transient": {
            "deleting": false
          }
        },
        "scrolled": false
      }
    },
    {
      "cell_type": "markdown",
      "source": [
        "## Best Model\n",
        "\n",
        "TODO: In the cell below, get the best model from the automl experiments and display all the properties of the model.\n",
        "\n"
      ],
      "metadata": {}
    },
    {
      "cell_type": "code",
      "source": [
        "remote_run.get_metrics('accuracy')"
      ],
      "outputs": [
        {
          "output_type": "execute_result",
          "execution_count": 8,
          "data": {
            "text/plain": "{'accuracy': 0.7774042950513538}"
          },
          "metadata": {}
        }
      ],
      "execution_count": 8,
      "metadata": {
        "gather": {
          "logged": 1690646910641
        },
        "jupyter": {
          "outputs_hidden": false,
          "source_hidden": false
        },
        "nteract": {
          "transient": {
            "deleting": false
          }
        }
      }
    },
    {
      "cell_type": "code",
      "source": [
        "print(remote_run.get_portal_url())"
      ],
      "outputs": [
        {
          "output_type": "stream",
          "name": "stdout",
          "text": "https://ml.azure.com/runs/AutoML_56ac2cae-8af3-4a48-b087-94d371fb4fa5?wsid=/subscriptions/f9d5a085-54dc-4215-9ba6-dad5d86e60a0/resourcegroups/aml-quickstarts-239402/workspaces/quick-starts-ws-239402&tid=660b3398-b80e-49d2-bc5b-ac1dc93b5254\n"
        }
      ],
      "execution_count": 9,
      "metadata": {
        "gather": {
          "logged": 1690646911170
        }
      }
    },
    {
      "cell_type": "code",
      "source": [
        "best_run, best_model = remote_run.get_output()"
      ],
      "outputs": [
        {
          "output_type": "stream",
          "name": "stderr",
          "text": "WARNING:root:The version of the SDK does not match the version the model was trained on.\nWARNING:root:The consistency in the result may not be guaranteed.\nWARNING:root:Package:azureml-automl-core, training version:1.52.0.post1, current version:1.51.0.post1\nPackage:azureml-automl-runtime, training version:1.52.0.post1, current version:1.51.0.post1\nPackage:azureml-core, training version:1.52.0, current version:1.51.0\nPackage:azureml-dataprep, training version:4.11.4, current version:4.10.8\nPackage:azureml-dataprep-rslex, training version:2.18.4, current version:2.17.12\nPackage:azureml-dataset-runtime, training version:1.52.0, current version:1.51.0\nPackage:azureml-defaults, training version:1.52.0, current version:1.51.0\nPackage:azureml-interpret, training version:1.52.0, current version:1.51.0\nPackage:azureml-mlflow, training version:1.52.0, current version:1.51.0\nPackage:azureml-pipeline-core, training version:1.52.0, current version:1.51.0\nPackage:azureml-responsibleai, training version:1.52.0, current version:1.51.0\nPackage:azureml-telemetry, training version:1.52.0, current version:1.51.0\nPackage:azureml-train-automl-client, training version:1.52.0, current version:1.51.0.post1\nPackage:azureml-train-automl-runtime, training version:1.52.0, current version:1.51.0.post2\nPackage:azureml-train-core, training version:1.52.0, current version:1.51.0\nPackage:azureml-train-restclients-hyperdrive, training version:1.52.0, current version:1.51.0\nPackage:azureml-training-tabular, training version:1.52.0, current version:1.51.0.post1\nWARNING:root:Please ensure the version of your local conda dependencies match the version on which your model was trained in order to properly retrieve your model.\n"
        }
      ],
      "execution_count": 10,
      "metadata": {
        "gather": {
          "logged": 1690646960181
        },
        "jupyter": {
          "outputs_hidden": false,
          "source_hidden": false
        },
        "nteract": {
          "transient": {
            "deleting": false
          }
        }
      }
    },
    {
      "cell_type": "code",
      "source": [
        "print(best_run)"
      ],
      "outputs": [
        {
          "output_type": "stream",
          "name": "stdout",
          "text": "Run(Experiment: my_experiment,\nId: AutoML_56ac2cae-8af3-4a48-b087-94d371fb4fa5_51,\nType: azureml.scriptrun,\nStatus: Completed)\n"
        }
      ],
      "execution_count": 11,
      "metadata": {
        "gather": {
          "logged": 1690646960694
        }
      }
    },
    {
      "cell_type": "code",
      "source": [
        "print(best_model)"
      ],
      "outputs": [
        {
          "output_type": "stream",
          "name": "stdout",
          "text": "Pipeline(memory=None,\n         steps=[('datatransformer',\n                 DataTransformer(enable_dnn=False, enable_feature_sweeping=True, feature_sweeping_config={}, feature_sweeping_timeout=86400, featurization_config=None, force_text_dnn=False, is_cross_validation=True, is_onnx_compatible=False, observer=None, task='classification', working_dir='/mnt/batch/tasks/shared/LS_root/mount...\n                 PreFittedSoftVotingClassifier(classification_labels=array([0, 1]), estimators=[('34', Pipeline(memory=None, steps=[('standardscalerwrapper', StandardScalerWrapper(copy=True, with_mean=False, with_std=True)), ('logisticregression', LogisticRegression(C=1.7575106248547894, class_weight=None, dual=False, fit_intercept=True, intercept_scaling=1, l1_ratio=None, max_iter=100, multi_class='multinomial', n_jobs=1, penalty='l1', random_state=None, solver='saga', tol=0.0001, verbose=0, warm_start=False))], verbose=False)), ('35', Pipeline(memory=None, steps=[('maxabsscaler', MaxAbsScaler(copy=True)), ('logisticregression', LogisticRegression(C=109.85411419875572, class_weight=None, dual=False, fit_intercept=True, intercept_scaling=1, l1_ratio=None, max_iter=100, multi_class='ovr', n_jobs=1, penalty='l1', random_state=None, solver='saga', tol=0.0001, verbose=0, warm_start=False))], verbose=False)), ('23', Pipeline(memory=None, steps=[('standardscalerwrapper', StandardScalerWrapper(copy=True, with_mean=False, with_std=True)), ('logisticregression', LogisticRegression(C=24.420530945486497, class_weight=None, dual=False, fit_intercept=True, intercept_scaling=1, l1_ratio=None, max_iter=100, multi_class='multinomial', n_jobs=1, penalty='l2', random_state=None, solver='lbfgs', tol=0.0001, verbose=0, warm_start=False))], verbose=False)), ('7', Pipeline(memory=None, steps=[('maxabsscaler', MaxAbsScaler(copy=True)), ('logisticregression', LogisticRegression(C=1.7575106248547894, class_weight=None, dual=False, fit_intercept=True, intercept_scaling=1, l1_ratio=None, max_iter=100, multi_class='multinomial', n_jobs=1, penalty='l2', random_state=None, solver='lbfgs', tol=0.0001, verbose=0, warm_start=False))], verbose=False)), ('12', Pipeline(memory=None, steps=[('maxabsscaler', MaxAbsScaler(copy=True)), ('logisticregression', LogisticRegression(C=719.6856730011514, class_weight=None, dual=False, fit_intercept=True, intercept_scaling=1, l1_ratio=None, max_iter=100, multi_class='multinomial', n_jobs=1, penalty='l2', random_state=None, solver='lbfgs', tol=0.0001, verbose=0, warm_start=False))], verbose=False)), ('11', Pipeline(memory=None, steps=[('standardscalerwrapper', StandardScalerWrapper(copy=True, with_mean=False, with_std=False)), ('xgboostclassifier', XGBoostClassifier(booster='gbtree', colsample_bytree=0.6, eta=0.3, gamma=0, max_depth=6, max_leaves=0, n_estimators=10, n_jobs=1, objective='reg:logistic', problem_info=ProblemInfo(gpu_training_param_dict={'processing_unit_type': 'cpu'}), random_state=0, reg_alpha=0.3125, reg_lambda=2.3958333333333335, subsample=1, tree_method='auto'))], verbose=False)), ('24', Pipeline(memory=None, steps=[('standardscalerwrapper', StandardScalerWrapper(copy=True, with_mean=False, with_std=False)), ('randomforestclassifier', RandomForestClassifier(bootstrap=False, ccp_alpha=0.0, class_weight=None, criterion='entropy', max_depth=None, max_features='log2', max_leaf_nodes=None, max_samples=None, min_impurity_decrease=0.0, min_impurity_split=None, min_samples_leaf=0.035789473684210524, min_samples_split=0.056842105263157895, min_weight_fraction_leaf=0.0, n_estimators=10, n_jobs=1, oob_score=False, random_state=None, verbose=0, warm_start=False))], verbose=False))], flatten_transform=None, weights=[0.2222222222222222, 0.1111111111111111, 0.1111111111111111, 0.2222222222222222, 0.1111111111111111, 0.1111111111111111, 0.1111111111111111]))],\n         verbose=False)\n"
        }
      ],
      "execution_count": 12,
      "metadata": {
        "gather": {
          "logged": 1690646961213
        }
      }
    },
    {
      "cell_type": "code",
      "source": [
        "print(best_model._final_estimator)"
      ],
      "outputs": [
        {
          "output_type": "stream",
          "name": "stdout",
          "text": "PreFittedSoftVotingClassifier(classification_labels=numpy.array([0, 1]), estimators=[('34', Pipeline(memory=None, steps=[('standardscalerwrapper', StandardScalerWrapper(copy=True, with_mean=False, with_std=True)), ('logisticregression', LogisticRegression(C=1.7575106248547894, class_weight=None, dual=False, fit_intercept=True, intercept_scaling=1, l1_ratio=None, max_iter=100, multi_class='multinomial', n_jobs=1, penalty='l1', random_state=None, solver='saga', tol=0.0001, verbose=0, warm_start=False))], verbose=False)), ('35', Pipeline(memory=None, steps=[('maxabsscaler', MaxAbsScaler(copy=True)), ('logisticregression', LogisticRegression(C=109.85411419875572, class_weight=None, dual=False, fit_intercept=True, intercept_scaling=1, l1_ratio=None, max_iter=100, multi_class='ovr', n_jobs=1, penalty='l1', random_state=None, solver='saga', tol=0.0001, verbose=0, warm_start=False))], verbose=False)), ('23', Pipeline(memory=None, steps=[('standardscalerwrapper', StandardScalerWrapper(copy=True, with_mean=False, with_std=True)), ('logisticregression', LogisticRegression(C=24.420530945486497, class_weight=None, dual=False, fit_intercept=True, intercept_scaling=1, l1_ratio=None, max_iter=100, multi_class='multinomial', n_jobs=1, penalty='l2', random_state=None, solver='lbfgs', tol=0.0001, verbose=0, warm_start=False))], verbose=False)), ('7', Pipeline(memory=None, steps=[('maxabsscaler', MaxAbsScaler(copy=True)), ('logisticregression', LogisticRegression(C=1.7575106248547894, class_weight=None, dual=False, fit_intercept=True, intercept_scaling=1, l1_ratio=None, max_iter=100, multi_class='multinomial', n_jobs=1, penalty='l2', random_state=None, solver='lbfgs', tol=0.0001, verbose=0, warm_start=False))], verbose=False)), ('12', Pipeline(memory=None, steps=[('maxabsscaler', MaxAbsScaler(copy=True)), ('logisticregression', LogisticRegression(C=719.6856730011514, class_weight=None, dual=False, fit_intercept=True, intercept_scaling=1, l1_ratio=None, max_iter=100, multi_class='multinomial', n_jobs=1, penalty='l2', random_state=None, solver='lbfgs', tol=0.0001, verbose=0, warm_start=False))], verbose=False)), ('11', Pipeline(memory=None, steps=[('standardscalerwrapper', StandardScalerWrapper(copy=True, with_mean=False, with_std=False)), ('xgboostclassifier', XGBoostClassifier(booster='gbtree', colsample_bytree=0.6, eta=0.3, gamma=0, max_depth=6, max_leaves=0, n_estimators=10, n_jobs=1, objective='reg:logistic', problem_info=ProblemInfo(gpu_training_param_dict={'processing_unit_type': 'cpu'}), random_state=0, reg_alpha=0.3125, reg_lambda=2.3958333333333335, subsample=1, tree_method='auto'))], verbose=False)), ('24', Pipeline(memory=None, steps=[('standardscalerwrapper', StandardScalerWrapper(copy=True, with_mean=False, with_std=False)), ('randomforestclassifier', RandomForestClassifier(bootstrap=False, ccp_alpha=0.0, class_weight=None, criterion='entropy', max_depth=None, max_features='log2', max_leaf_nodes=None, max_samples=None, min_impurity_decrease=0.0, min_impurity_split=None, min_samples_leaf=0.035789473684210524, min_samples_split=0.056842105263157895, min_weight_fraction_leaf=0.0, n_estimators=10, n_jobs=1, oob_score=False, random_state=None, verbose=0, warm_start=False))], verbose=False))], flatten_transform=None, weights=[0.2222222222222222, 0.1111111111111111, 0.1111111111111111, 0.2222222222222222, 0.1111111111111111, 0.1111111111111111, 0.1111111111111111])\n"
        }
      ],
      "execution_count": 13,
      "metadata": {
        "gather": {
          "logged": 1690646961586
        }
      }
    },
    {
      "cell_type": "code",
      "source": [
        "#TODO: Save the best model\n",
        "joblib.dump(value=best_model, filename='best-automl2.pkl')"
      ],
      "outputs": [
        {
          "output_type": "execute_result",
          "execution_count": 14,
          "data": {
            "text/plain": "['best-automl2.pkl']"
          },
          "metadata": {}
        }
      ],
      "execution_count": 14,
      "metadata": {
        "gather": {
          "logged": 1690646961947
        }
      }
    },
    {
      "cell_type": "markdown",
      "source": [
        "## Model Deployment\n",
        "\n",
        "Remember you have to deploy only one of the two models you trained.. Perform the steps in the rest of this notebook only if you wish to deploy this model.\n",
        "\n",
        "TODO: In the cell below, register the model, create an inference config and deploy the model as a web service."
      ],
      "metadata": {}
    },
    {
      "cell_type": "code",
      "source": [
        "#register the model\n",
        "\n",
        "model = Model.register(workspace=ws,model_name = \"best-automl\", model_path = './best-automl.pkl')\n",
        "best_run.download_file(constants.CONDA_ENV_FILE_PATH, 'myenv.yml')\n",
        "print(model.name, model.id, model.version, sep='\\t')"
      ],
      "outputs": [
        {
          "output_type": "stream",
          "name": "stdout",
          "text": "Registering model best-automl\nbest-automl\tbest-automl:2\t2\n"
        }
      ],
      "execution_count": 20,
      "metadata": {
        "gather": {
          "logged": 1690647694328
        },
        "jupyter": {
          "outputs_hidden": false,
          "source_hidden": false
        },
        "nteract": {
          "transient": {
            "deleting": false
          }
        }
      }
    },
    {
      "cell_type": "code",
      "source": [
        "#create an inference config and deploy the model as a web service\n",
        "\n",
        "env = Environment.from_conda_specification('myenv', 'myenv.yml')\n",
        "inference_config = InferenceConfig(entry_script='score.py', environment=env)\n",
        "\n",
        "aci_config = AciWebservice.deploy_configuration(cpu_cores=1, memory_gb=1, auth_enabled=True,tags = {'name':'Diabetes Prediction'},description='Diabetes prediction model')\n",
        "service = model.deploy(workspace=ws,name=\"automl-deploy5\",models=[model],inference_config=inference_config,deployment_config=aci_config)\n",
        "\n",
        "\n",
        "service.wait_for_deployment(show_output=True)\n"
      ],
      "outputs": [
        {
          "output_type": "stream",
          "name": "stdout",
          "text": "Tips: You can try get_logs(): https://aka.ms/debugimage#dockerlog or local deployment: https://aka.ms/debugimage#debug-locally to debug if deployment takes longer than 10 minutes.\nRunning\n2023-07-29 16:21:55+00:00 Creating Container Registry if not exists.\n2023-07-29 16:21:55+00:00 Registering the environment.\n2023-07-29 16:21:56+00:00 Use the existing image.\n2023-07-29 16:21:56+00:00 Generating deployment configuration.\n2023-07-29 16:21:57+00:00 Submitting deployment to compute.\n2023-07-29 16:22:02+00:00 Checking the status of deployment automl-deploy5..\n2023-07-29 16:23:56+00:00 Checking the status of inference endpoint automl-deploy5.\nSucceeded\nACI service creation operation finished, operation \"Succeeded\"\n"
        }
      ],
      "execution_count": 21,
      "metadata": {
        "scrolled": false,
        "gather": {
          "logged": 1690647848164
        }
      }
    },
    {
      "cell_type": "code",
      "source": [
        "service.update(enable_app_insights=True)"
      ],
      "outputs": [],
      "execution_count": 22,
      "metadata": {
        "gather": {
          "logged": 1690647860420
        }
      }
    },
    {
      "cell_type": "code",
      "source": [
        "print(service.state)"
      ],
      "outputs": [
        {
          "output_type": "stream",
          "name": "stdout",
          "text": "Healthy\n"
        }
      ],
      "execution_count": 23,
      "metadata": {
        "gather": {
          "logged": 1690647860749
        }
      }
    },
    {
      "cell_type": "code",
      "source": [
        "print(service.scoring_uri)"
      ],
      "outputs": [
        {
          "output_type": "stream",
          "name": "stdout",
          "text": "http://4a03a3d6-cba1-47c7-bba6-9ff498c547eb.westeurope.azurecontainer.io/score\n"
        }
      ],
      "execution_count": 24,
      "metadata": {
        "gather": {
          "logged": 1690647861780
        }
      }
    },
    {
      "cell_type": "markdown",
      "source": [
        "TODO: In the cell below, send a request to the web service you deployed to test it."
      ],
      "metadata": {}
    },
    {
      "cell_type": "code",
      "source": [
        "row = 0\n",
        "x = Capstone_Dataset.iloc[row, :-1].to_dict()\n",
        "y = Capstone_Dataset.iloc[row, -1]\n",
        "\n"
      ],
      "outputs": [],
      "execution_count": 25,
      "metadata": {
        "gather": {
          "logged": 1690647870092
        }
      }
    },
    {
      "cell_type": "code",
      "source": [
        "print(x)"
      ],
      "outputs": [
        {
          "output_type": "stream",
          "name": "stdout",
          "text": "{'Pregnancies': 6.0, 'Glucose': 148.0, 'BloodPressure': 72.0, 'SkinThickness': 35.0, 'Insulin': 0.0, 'BMI': 33.6, 'DiabetesPedigreeFunction': 0.627, 'Age': 50.0}\n"
        }
      ],
      "execution_count": 26,
      "metadata": {
        "gather": {
          "logged": 1690647871025
        }
      }
    },
    {
      "cell_type": "code",
      "source": [
        "print(y)"
      ],
      "outputs": [
        {
          "output_type": "stream",
          "name": "stdout",
          "text": "1\n"
        }
      ],
      "execution_count": 27,
      "metadata": {
        "gather": {
          "logged": 1690647874392
        }
      }
    },
    {
      "cell_type": "code",
      "source": [
        "#input_data = json.dumps({\n",
        "    #'data': x\n",
        "#})\n",
        "\n",
        "#output = service.run(input_data)\n",
        "#print(f\"Predicted: {output}\\nExpected: {y}\")\n",
        "#print(f\"Output: {y}\")\n",
        "\n",
        "# URL for the web service\n",
        "scoring_uri = 'http://4a03a3d6-cba1-47c7-bba6-9ff498c547eb.westeurope.azurecontainer.io/score'\n",
        "# If the service is authenticated, set the key or token\n",
        "key = 'hEvDebXsIOz0OvGInmyn5VqIKwMtUeE8'\n",
        "\n",
        "data = {\n",
        "  \"data\": [\n",
        "    {\n",
        "        'Pregnancies': 6.0, \n",
        "        'Glucose': 148.0, \n",
        "        'BloodPressure': 72.0, \n",
        "        'SkinThickness': 35.0, \n",
        "        'Insulin': 0.0,\n",
        "        'BMI': 33.6, \n",
        "        'DiabetesPedigreeFunction': 0.627, \n",
        "        'Age': 50.\n",
        "    }             \n",
        " ]\n",
        "}\n",
        "# Convert to JSON string\n",
        "input_data = json.dumps(data)\n",
        "output = service.run(input_data)\n",
        "#print(f\"Predicted: {output}\\nExpected: {y}\")\n",
        "\n",
        "headers = {'Content-Type': 'application/json'}\n",
        "headers['Authorization'] = f'Bearer {key}'\n",
        "\n",
        "# Make the request and display the response\n",
        "resp = requests.post(scoring_uri, input_data, headers=headers)\n",
        "print(\"prediction \", resp.text)"
      ],
      "outputs": [
        {
          "output_type": "stream",
          "name": "stdout",
          "text": "prediction  [1]\n"
        }
      ],
      "execution_count": 29,
      "metadata": {
        "gather": {
          "logged": 1690648034792
        }
      }
    },
    {
      "cell_type": "markdown",
      "source": [
        "TODO: In the cell below, print the logs of the web service and delete the service"
      ],
      "metadata": {}
    },
    {
      "cell_type": "code",
      "source": [
        "#print the logs of the web service\n",
        "print(service.get_logs())\n",
        "#delete the service\n",
        "service.delete()"
      ],
      "outputs": [
        {
          "output_type": "stream",
          "name": "stdout",
          "text": "/bin/bash: /azureml-envs/azureml_54d5b9858d4d11617085aab4b1be851c/lib/libtinfo.so.6: no version information available (required by /bin/bash)\n/bin/bash: /azureml-envs/azureml_54d5b9858d4d11617085aab4b1be851c/lib/libtinfo.so.6: no version information available (required by /bin/bash)\n/bin/bash: /azureml-envs/azureml_54d5b9858d4d11617085aab4b1be851c/lib/libtinfo.so.6: no version information available (required by /bin/bash)\n2023-07-29T16:26:11,549190132+00:00 - rsyslog/run \n2023-07-29T16:26:11,556726132+00:00 - gunicorn/run \n2023-07-29T16:26:11,563476832+00:00 | gunicorn/run | \n2023-07-29T16:26:11,570572232+00:00 | gunicorn/run | ###############################################\n2023-07-29T16:26:11,572384732+00:00 | gunicorn/run | AzureML Container Runtime Information\n2023-07-29T16:26:11,578896132+00:00 | gunicorn/run | ###############################################\nbash: /azureml-envs/azureml_54d5b9858d4d11617085aab4b1be851c/lib/libtinfo.so.6: no version information available (required by bash)\n2023-07-29T16:26:11,580823432+00:00 | gunicorn/run | \n2023-07-29T16:26:11,587766032+00:00 | gunicorn/run | \n2023-07-29T16:26:11,595073632+00:00 - nginx/run \n2023-07-29T16:26:11,598067632+00:00 | gunicorn/run | AzureML image information: openmpi4.1.0-ubuntu20.04, Materializaton Build:20230509.v1\n2023-07-29T16:26:11,603401732+00:00 | gunicorn/run | \n2023-07-29T16:26:11,605259432+00:00 | gunicorn/run | \n2023-07-29T16:26:11,607113432+00:00 | gunicorn/run | PATH environment variable: /azureml-envs/azureml_54d5b9858d4d11617085aab4b1be851c/bin:/opt/miniconda/bin:/usr/local/sbin:/usr/local/bin:/usr/sbin:/usr/bin:/sbin:/bin\n2023-07-29T16:26:11,613912832+00:00 | gunicorn/run | PYTHONPATH environment variable: \n2023-07-29T16:26:11,622403332+00:00 | gunicorn/run | \n2023-07-29T16:26:13,569171933+00:00 | gunicorn/run | CONDAPATH environment variable: /opt/miniconda\n\n# conda environments:\n#\n                      *  /azureml-envs/azureml_54d5b9858d4d11617085aab4b1be851c\nbase                     /opt/miniconda\n\n2023-07-29T16:26:15,756529033+00:00 | gunicorn/run | \n2023-07-29T16:26:15,762189833+00:00 | gunicorn/run | Pip Dependencies (before dynamic installation)\n\nadal==1.2.7\napplicationinsights==0.11.10\narch==5.3.1\nargcomplete==2.1.2\narviz @ file:///tmp/build/80754af9/arviz_1614019183254/work\nattrs==23.1.0\nazure-common==1.1.28\nazure-core==1.28.0\nazure-graphrbac==0.61.1\nazure-identity==1.13.0\nazure-mgmt-authorization==3.0.0\nazure-mgmt-containerregistry==10.1.0\nazure-mgmt-core==1.4.0\nazure-mgmt-keyvault==10.2.3\nazure-mgmt-resource==22.0.0\nazure-mgmt-storage==21.0.0\nazure-storage-blob==12.13.0\nazure-storage-queue==12.6.0\nazureml-automl-core==1.52.0.post1\nazureml-automl-runtime==1.52.0.post1\nazureml-core==1.52.0\nazureml-dataprep==4.11.6\nazureml-dataprep-native==38.0.0\nazureml-dataprep-rslex==2.18.4\nazureml-dataset-runtime==1.52.0\nazureml-defaults==1.52.0\nazureml-inference-server-http==0.8.4\nazureml-interpret==1.52.0\nazureml-mlflow==1.52.0\nazureml-telemetry==1.52.0\nazureml-train-automl-client==1.52.0\nazureml-train-automl-runtime==1.52.0\nazureml-train-core==1.52.0\nazureml-train-restclients-hyperdrive==1.52.0\nazureml-training-tabular==1.52.0\nbackports.tempfile==1.0\nbackports.weakref==1.0.post1\nbcrypt==4.0.1\nbokeh==2.4.3\nboto==2.49.0\nboto3==1.20.19\nbotocore==1.23.19\ncachetools==5.3.1\ncertifi @ file:///croot/certifi_1671487769961/work/certifi\ncffi==1.15.1\ncftime @ file:///tmp/build/80754af9/cftime_1638357901230/work\ncharset-normalizer==3.2.0\nclick==8.1.6\ncloudpickle==2.2.1\ncontextlib2==21.6.0\ncontourpy @ file:///opt/conda/conda-bld/contourpy_1663827406301/work\nconvertdate @ file:///tmp/build/80754af9/convertdate_1634070773133/work\ncryptography==41.0.2\ncycler @ file:///tmp/build/80754af9/cycler_1637851556182/work\nCython==0.29.17\ndask==2023.2.0\ndatabricks-cli==0.17.7\ndataclasses==0.6\ndill==0.3.7\ndistributed==2023.2.0\ndistro==1.8.0\ndocker==6.1.3\ndotnetcore2==3.1.23\nentrypoints==0.4\nephem @ file:///tmp/build/80754af9/ephem_1638942191467/work\nfbprophet @ file:///home/conda/feedstock_root/build_artifacts/fbprophet_1599365532360/work\nfire==0.5.0\nFlask==2.2.5\nFlask-Cors==3.0.10\nflatbuffers==23.5.26\nflit_core @ file:///opt/conda/conda-bld/flit-core_1644941570762/work/source/flit_core\nfonttools==4.25.0\nfsspec==2023.6.0\nfusepy==3.0.1\ngensim==3.8.3\ngitdb==4.0.10\nGitPython==3.1.32\ngoogle-api-core==2.11.1\ngoogle-auth==2.22.0\ngoogleapis-common-protos==1.59.1\ngunicorn==20.1.0\nholidays @ file:///home/conda/feedstock_root/build_artifacts/holidays_1595448845196/work\nhumanfriendly==10.0\nidna==3.4\nimportlib-metadata==6.8.0\nimportlib-resources==6.0.0\ninference-schema==1.5.1\ninterpret-community==0.29.0\ninterpret-core==0.3.2\nisodate==0.6.1\nitsdangerous==2.1.2\njeepney==0.8.0\nJinja2==3.1.2\njmespath==0.10.0\njoblib==1.2.0\njsonpickle==3.0.1\njsonschema==4.18.4\njsonschema-specifications==2023.7.1\nkeras2onnx==1.6.0\nkiwisolver @ file:///croot/kiwisolver_1672387140495/work\nknack==0.10.1\nkorean-lunar-calendar @ file:///tmp/build/80754af9/korean_lunar_calendar_1634063020401/work\nlightgbm==3.2.1\nllvmlite==0.38.1\nlocket==1.0.0\nLunarCalendar @ file:///tmp/build/80754af9/lunarcalendar_1646383991234/work\nMarkupSafe==2.1.3\nmatplotlib @ file:///croot/matplotlib-suite_1670466153205/work\nml-wrappers==0.4.11\nmlflow-skinny==2.5.0\nmsal==1.23.0\nmsal-extensions==1.0.0\nmsgpack==1.0.5\nmsrest==0.7.1\nmsrestazure==0.6.4\nmunkres==1.1.4\nndg-httpsclient==0.5.1\nnetCDF4 @ file:///tmp/build/80754af9/netcdf4_1624383287733/work\nnumba==0.55.2\nnumpy @ file:///opt/conda/conda-bld/numpy_and_numpy_base_1652801679809/work\noauthlib==3.2.2\nonnx==1.13.1\nonnxconverter-common==1.6.0\nonnxmltools==1.4.1\nonnxruntime==1.11.1\nopencensus==0.11.2\nopencensus-context==0.1.3\nopencensus-ext-azure==1.1.9\npackaging @ file:///croot/packaging_1671697413597/work\npandas==1.1.5\nparamiko==3.3.1\npartd==1.4.0\npathspec==0.11.2\npatsy==0.5.3\nPillow==9.3.0\npkginfo==1.9.6\npkgutil_resolve_name==1.3.10\npmdarima==1.8.0\nportalocker==2.7.0\nproperty-cached==1.6.4\nprotobuf==3.20.3\npsutil @ file:///home/conda/feedstock_root/build_artifacts/psutil_1681775007745/work\npyarrow==11.0.0\npyasn1==0.5.0\npyasn1-modules==0.3.0\npycparser==2.21\npydantic==1.10.12\nPygments==2.15.1\nPyJWT==2.8.0\nPyMeeus @ file:///tmp/build/80754af9/pymeeus_1634069098549/work\nPyNaCl==1.5.0\npyOpenSSL==23.2.0\npyparsing @ file:///opt/conda/conda-bld/pyparsing_1661452539315/work\nPySocks==1.7.1\npystan @ file:///home/conda/feedstock_root/build_artifacts/pystan_1598392747715/work\npython-dateutil @ file:///tmp/build/80754af9/python-dateutil_1626374649649/work\npytz @ file:///croot/pytz_1671697431263/work\nPyYAML==6.0.1\nraiutils==0.4.0\nreferencing==0.30.0\nrequests==2.31.0\nrequests-oauthlib==1.3.1\nrpds-py==0.9.2\nrsa==4.9\ns3transfer==0.5.2\nscikit-learn==0.22.1\nscipy==1.5.3\nSecretStorage==3.3.3\nshap==0.41.0\nsix @ file:///tmp/build/80754af9/six_1644875935023/work\nskl2onnx==1.4.9\nsklearn-pandas==1.7.0\nslicer==0.0.7\nsmart-open==1.9.0\nsmmap==5.0.0\nsortedcontainers==2.4.0\nsqlparse==0.4.4\nstatsmodels==0.11.1\ntabulate==0.9.0\ntblib==2.0.0\ntermcolor==2.3.0\ntoolz==0.12.0\ntornado==6.3.2\ntqdm @ file:///opt/conda/conda-bld/tqdm_1664392687731/work\ntyping_extensions @ file:///croot/typing_extensions_1669924550328/work\nurllib3==1.26.16\nwebsocket-client==1.6.1\nWerkzeug==2.3.6\nwrapt==1.12.1\nxarray @ file:///opt/conda/conda-bld/xarray_1639166117697/work\nxgboost==1.3.3\nzict==3.0.0\nzipp==3.16.2\n\n2023-07-29T16:26:17,754857199+00:00 | gunicorn/run | \n2023-07-29T16:26:17,757568189+00:00 | gunicorn/run | ###############################################\n2023-07-29T16:26:17,762141973+00:00 | gunicorn/run | Checking if the Python package azureml-inference-server-http is installed\n2023-07-29T16:26:17,763756168+00:00 | gunicorn/run | ###############################################\n2023-07-29T16:26:17,768632350+00:00 | gunicorn/run | \n2023-07-29T16:26:20,747381680+00:00 | gunicorn/run | \n2023-07-29T16:26:20,749654672+00:00 | gunicorn/run | ###############################################\n2023-07-29T16:26:20,755309852+00:00 | gunicorn/run | AzureML Inference Server\n2023-07-29T16:26:20,757209446+00:00 | gunicorn/run | ###############################################\n2023-07-29T16:26:20,758899740+00:00 | gunicorn/run | \n2023-07-29T16:26:23,789182789+00:00 | gunicorn/run | Starting AzureML Inference Server HTTP.\n2023-07-29 16:26:24,255 I [73] azmlinfsrv - Loaded logging config from /azureml-envs/azureml_54d5b9858d4d11617085aab4b1be851c/lib/python3.8/site-packages/azureml_inference_server_http/logging.json\n2023-07-29 16:26:24,608 I [73] gunicorn.error - Starting gunicorn 20.1.0\n2023-07-29 16:26:24,608 I [73] gunicorn.error - Listening at: http://0.0.0.0:31311 (73)\n2023-07-29 16:26:24,609 I [73] gunicorn.error - Using worker: sync\n2023-07-29 16:26:24,616 I [141] gunicorn.error - Booting worker with pid: 141\n/azureml-envs/azureml_54d5b9858d4d11617085aab4b1be851c/lib/python3.8/site-packages/azureml_inference_server_http/server/config.py:51: FutureWarning: aliases are no longer used by BaseSettings to define which environment variables to read. Instead use the \"env\" field setting. See https://pydantic-docs.helpmanual.io/usage/settings/#environment-variable-names\n  class AMLInferenceServerConfig(pydantic.BaseSettings):\nValid Application Insights instrumentation key provided.\n\nAzure ML Inferencing HTTP server v0.8.4\n\n\nServer Settings\n---------------\nEntry Script Name: /var/azureml-app/score.py\nModel Directory: /var/azureml-app/azureml-models/best-automl/2\nConfig File: None\nWorker Count: 1\nWorker Timeout (seconds): 300\nServer Port: 31311\nHealth Port: 31311\nApplication Insights Enabled: true\nApplication Insights Key: AppInsights key provided\nInferencing HTTP server version: azmlinfsrv/0.8.4\nCORS for the specified origins: None\nCreate dedicated endpoint for health: None\n\n\nServer Routes\n---------------\nLiveness Probe: GET   127.0.0.1:31311/\nScore:          POST  127.0.0.1:31311/score\n\n2023-07-29 16:26:25,627 I [141] azmlinfsrv - AML_FLASK_ONE_COMPATIBILITY is set. Patched Flask to ensure compatibility with Flask 1.\nInitializing logger\n2023-07-29 16:26:25,629 I [141] azmlinfsrv - Starting up app insights client\nWARNING:opencensus.ext.azure.common:DeprecationWarning: Explicitly using instrumentation key isdeprecated. Please use a connection string instead.\nWARNING:opencensus.ext.azure.common:DeprecationWarning: Explicitly using instrumentation key isdeprecated. Please use a connection string instead.\nWARNING:opencensus.ext.azure.common:DeprecationWarning: Explicitly using instrumentation key isdeprecated. Please use a connection string instead.\n2023-07-29 16:26:36,750 I [141] azmlinfsrv.user_script - Found user script at /var/azureml-app/score.py\n2023-07-29 16:26:36,750 I [141] azmlinfsrv.user_script - run() is not decorated. Server will invoke it with the input in JSON string.\n2023-07-29 16:26:36,750 I [141] azmlinfsrv.user_script - Invoking user's init function\n/azureml-envs/azureml_54d5b9858d4d11617085aab4b1be851c/lib/python3.8/site-packages/sklearn/externals/joblib/__init__.py:15: FutureWarning: sklearn.externals.joblib is deprecated in 0.21 and will be removed in 0.23. Please import this functionality directly from joblib, which can be installed with: pip install joblib. If this warning is raised when loading pickled models, you may need to re-serialize those models with scikit-learn 0.21+.\n  warnings.warn(msg, category=FutureWarning)\nERROR:fbprophet.plot:Importing plotly failed. Interactive plots will not work.\n2023-07-29 16:26:45,257 I [141] azmlinfsrv.user_script - Users's init has completed successfully\n2023-07-29 16:26:45,260 I [141] azmlinfsrv.swagger - Swaggers are prepared for the following versions: [2, 3, 3.1].\n2023-07-29 16:26:45,261 I [141] azmlinfsrv - Scoring timeout is set to 60000\n2023-07-29 16:26:55,384 W [141] azmlinfsrv - x-ms-request-id header has been deprecated and will be removed from future versions of the server. Please use x-ms-client-request-id.\n2023-07-29 16:26:55,388 I [141] gunicorn.access - 127.0.0.1 - - [29/Jul/2023:16:26:55 +0000] \"GET / HTTP/1.0\" 200 7 \"-\" \"Go-http-client/1.1\"\n2023-07-29 16:26:55,393 W [141] azmlinfsrv - x-ms-request-id header has been deprecated and will be removed from future versions of the server. Please use x-ms-client-request-id.\n2023-07-29 16:26:55,394 I [141] azmlinfsrv - GET /swagger.json 200 0.934ms 2206\n2023-07-29 16:26:55,396 I [141] gunicorn.access - 127.0.0.1 - - [29/Jul/2023:16:26:55 +0000] \"GET /swagger.json HTTP/1.0\" 200 2206 \"-\" \"Go-http-client/1.1\"\n2023-07-29 16:27:04,299 W [141] azmlinfsrv - x-ms-request-id header has been deprecated and will be removed from future versions of the server. Please use x-ms-client-request-id.\n2023-07-29 16:27:04,300 I [141] gunicorn.access - 127.0.0.1 - - [29/Jul/2023:16:27:04 +0000] \"GET / HTTP/1.0\" 200 7 \"-\" \"Go-http-client/1.1\"\n2023-07-29 16:27:04,306 W [141] azmlinfsrv - x-ms-request-id header has been deprecated and will be removed from future versions of the server. Please use x-ms-client-request-id.\n2023-07-29 16:27:04,307 I [141] azmlinfsrv - GET /swagger.json 200 1.289ms 2206\n2023-07-29 16:27:04,310 I [141] gunicorn.access - 127.0.0.1 - - [29/Jul/2023:16:27:04 +0000] \"GET /swagger.json HTTP/1.0\" 200 2206 \"-\" \"Go-http-client/1.1\"\n2023-07-29 16:27:05,238 W [141] azmlinfsrv - x-ms-request-id header has been deprecated and will be removed from future versions of the server. Please use x-ms-client-request-id.\n2023-07-29 16:27:05,240 I [141] azmlinfsrv - GET /swagger.json 200 1.546ms 2206\n2023-07-29 16:27:05,242 I [141] gunicorn.access - 127.0.0.1 - - [29/Jul/2023:16:27:05 +0000] \"GET /swagger.json HTTP/1.0\" 200 2206 \"-\" \"Go-http-client/1.1\"\n2023-07-29 16:27:14,318 W [141] azmlinfsrv - x-ms-request-id header has been deprecated and will be removed from future versions of the server. Please use x-ms-client-request-id.\n2023-07-29 16:27:14,463 I [141] azmlinfsrv - POST /score 200 145.089ms 3\n2023-07-29 16:27:14,466 I [141] gunicorn.access - 127.0.0.1 - - [29/Jul/2023:16:27:14 +0000] \"POST /score HTTP/1.0\" 200 3 \"-\" \"python-requests/2.31.0\"\n2023-07-29 16:27:14,485 W [141] azmlinfsrv - x-ms-request-id header has been deprecated and will be removed from future versions of the server. Please use x-ms-client-request-id.\n2023-07-29 16:27:14,610 I [141] azmlinfsrv - POST /score 200 125.766ms 3\n2023-07-29 16:27:14,613 I [141] gunicorn.access - 127.0.0.1 - - [29/Jul/2023:16:27:14 +0000] \"POST /score HTTP/1.0\" 200 3 \"-\" \"python-requests/2.31.0\"\n\n"
        }
      ],
      "execution_count": 30,
      "metadata": {
        "scrolled": false,
        "gather": {
          "logged": 1690648043364
        }
      }
    },
    {
      "cell_type": "code",
      "source": [],
      "outputs": [],
      "execution_count": null,
      "metadata": {}
    }
  ],
  "metadata": {
    "kernel_info": {
      "name": "python38-azureml"
    },
    "kernelspec": {
      "name": "python38-azureml",
      "language": "python",
      "display_name": "Python 3.8 - AzureML"
    },
    "language_info": {
      "name": "python",
      "version": "3.8.5",
      "mimetype": "text/x-python",
      "codemirror_mode": {
        "name": "ipython",
        "version": 3
      },
      "pygments_lexer": "ipython3",
      "nbconvert_exporter": "python",
      "file_extension": ".py"
    },
    "nteract": {
      "version": "nteract-front-end@1.0.0"
    },
    "microsoft": {
      "ms_spell_check": {
        "ms_spell_check_language": "en"
      },
      "host": {
        "AzureML": {
          "notebookHasBeenCompleted": true
        }
      }
    }
  },
  "nbformat": 4,
  "nbformat_minor": 2
}